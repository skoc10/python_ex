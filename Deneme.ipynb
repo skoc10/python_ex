{
 "cells": [
  {
   "cell_type": "code",
   "execution_count": null,
   "metadata": {},
   "outputs": [],
   "source": [
    "numbers = [1, 3, 7, 4, 3, 0, 3, 6, 3]\n",
    "numbers.sort()\n",
    "numbers"
   ]
  },
  {
   "cell_type": "code",
   "execution_count": null,
   "metadata": {},
   "outputs": [],
   "source": [
    "numbers = [1, 3, 7, 4, 3, 0, 3, 6, 3]\n",
    "\n",
    "ls = []\n",
    "for i in numbers:\n",
    "    ls.append(numbers.count(i))\n",
    "freq = max(ls)\n",
    "num = numbers[ls.index(max(ls))]\n",
    "print(f'The most frequent number is {num} and it was {freq} times repeated')"
   ]
  },
  {
   "cell_type": "code",
   "execution_count": null,
   "metadata": {},
   "outputs": [],
   "source": [
    "numbers = [3,3,3,1, 9,9,9,9,3, 7, 4, 3, 0, 3, 6, 3,9]\n",
    "\n",
    "ls = []\n",
    "for i in numbers:\n",
    "    ls.append(numbers.count(i))\n",
    "print(f'The most frequent number is {numbers[ls.index(max(ls))]} and it was {max(ls)} times repeated')"
   ]
  },
  {
   "cell_type": "code",
   "execution_count": null,
   "metadata": {},
   "outputs": [],
   "source": [
    "ls.index(4)"
   ]
  },
  {
   "cell_type": "code",
   "execution_count": null,
   "metadata": {},
   "outputs": [],
   "source": [
    "numbers = [3,3,3,1, 9,9,9,9,3, 7, 4, 3, 0, 3, 6, 3,9,9,9,9,9,9]\n",
    "n = max(set(numbers), key = numbers.count)\n",
    "print(f'The most frequent number is {max(set(numbers), key = numbers.count)} and it was {numbers.count(n)} times repeated')"
   ]
  },
  {
   "cell_type": "markdown",
   "metadata": {},
   "source": [
    "## "
   ]
  },
  {
   "cell_type": "code",
   "execution_count": 6,
   "metadata": {},
   "outputs": [
    {
     "data": {
      "text/plain": [
       "'c'"
      ]
     },
     "execution_count": 6,
     "metadata": {},
     "output_type": "execute_result"
    }
   ],
   "source": [
    "ls = list('a b c d e f c d g h c d'.split())\n",
    "ls[2]"
   ]
  },
  {
   "cell_type": "code",
   "execution_count": null,
   "metadata": {},
   "outputs": [],
   "source": [
    "?count()"
   ]
  },
  {
   "cell_type": "code",
   "execution_count": null,
   "metadata": {},
   "outputs": [],
   "source": []
  },
  {
   "cell_type": "code",
   "execution_count": null,
   "metadata": {},
   "outputs": [],
   "source": [
    "type(a)"
   ]
  },
  {
   "cell_type": "code",
   "execution_count": null,
   "metadata": {},
   "outputs": [],
   "source": [
    "a=21%3"
   ]
  },
  {
   "cell_type": "code",
   "execution_count": null,
   "metadata": {},
   "outputs": [],
   "source": [
    "21//4"
   ]
  },
  {
   "cell_type": "code",
   "execution_count": null,
   "metadata": {},
   "outputs": [],
   "source": [
    "kadayif = True\n",
    "\n",
    "#ic\n",
    "findik = True\n",
    "fistik = True\n",
    "ceviz = True\n",
    "\n",
    "#serbet\n",
    "su = True\n",
    "seker = True\n",
    "\n",
    "yumurta = True\n",
    "\n",
    "#icecek\n",
    "cay = True\n",
    "limonata = True\n",
    "mesrubat = True"
   ]
  },
  {
   "cell_type": "code",
   "execution_count": null,
   "metadata": {},
   "outputs": [],
   "source": [
    "kadayif = (findik or fistik or ceviz) and (su and seker) and yumurta and (cay or limonata or mesrubat)"
   ]
  },
  {
   "cell_type": "code",
   "execution_count": null,
   "metadata": {},
   "outputs": [],
   "source": [
    "kadayif"
   ]
  },
  {
   "cell_type": "code",
   "execution_count": null,
   "metadata": {},
   "outputs": [],
   "source": [
    "print(\"\\\\\"\")"
   ]
  },
  {
   "cell_type": "code",
   "execution_count": null,
   "metadata": {},
   "outputs": [],
   "source": [
    "s = 'selmankoczehra'"
   ]
  },
  {
   "cell_type": "code",
   "execution_count": null,
   "metadata": {},
   "outputs": [],
   "source": [
    "s[0:9:3]"
   ]
  },
  {
   "cell_type": "code",
   "execution_count": null,
   "metadata": {},
   "outputs": [],
   "source": [
    "s[::]"
   ]
  },
  {
   "cell_type": "code",
   "execution_count": null,
   "metadata": {},
   "outputs": [],
   "source": [
    "s[::-1]"
   ]
  },
  {
   "cell_type": "code",
   "execution_count": null,
   "metadata": {},
   "outputs": [],
   "source": [
    "a='orange'"
   ]
  },
  {
   "cell_type": "code",
   "execution_count": null,
   "metadata": {},
   "outputs": [],
   "source": [
    "a[-5:-2]"
   ]
  },
  {
   "cell_type": "code",
   "execution_count": null,
   "metadata": {},
   "outputs": [],
   "source": [
    "'clarus'[-3::-1]"
   ]
  },
  {
   "cell_type": "code",
   "execution_count": null,
   "metadata": {},
   "outputs": [],
   "source": [
    "hayvan ='hippopotamus'"
   ]
  },
  {
   "cell_type": "code",
   "execution_count": null,
   "metadata": {},
   "outputs": [],
   "source": [
    "hayvan[-5:-2:1]"
   ]
  },
  {
   "cell_type": "code",
   "execution_count": null,
   "metadata": {},
   "outputs": [],
   "source": [
    "hayvan[-5:-2:-1]"
   ]
  },
  {
   "cell_type": "code",
   "execution_count": null,
   "metadata": {},
   "outputs": [],
   "source": [
    "hayvan[-2:-5:-1]"
   ]
  },
  {
   "cell_type": "code",
   "execution_count": null,
   "metadata": {},
   "outputs": [],
   "source": [
    "len(*'cvnc')"
   ]
  },
  {
   "cell_type": "code",
   "execution_count": null,
   "metadata": {},
   "outputs": [],
   "source": [
    "s1 = 'clarus'\n",
    "s1 += 'way'"
   ]
  },
  {
   "cell_type": "code",
   "execution_count": null,
   "metadata": {},
   "outputs": [],
   "source": [
    "s1"
   ]
  },
  {
   "cell_type": "code",
   "execution_count": null,
   "metadata": {},
   "outputs": [],
   "source": [
    "age = input('Are you a cigarette addict older than 75 years old?(Y/N): ')\n",
    "chronic = input('Do you have a severe chronic disease?(Y/N): ')\n",
    "immune = input('Is your immune system too weak?(Y/N): ')\n",
    "\n",
    "if age== 'N' or 'n':\n",
    "    age = False\n",
    "else:\n",
    "    age = True\n",
    "if chronic== 'N' or 'n':\n",
    "    chronic = False\n",
    "else:\n",
    "    chronic = True\n",
    "if immune== 'N' or 'n':\n",
    "    immune = False\n",
    "else:\n",
    "    immune = True\n",
    "\n",
    "if age or chronic or immune == True:\n",
    "    print('You have risk of death')\n",
    "else:\n",
    "    print(\"You don't have risk of death\")\n",
    "    \n"
   ]
  },
  {
   "cell_type": "code",
   "execution_count": null,
   "metadata": {},
   "outputs": [],
   "source": [
    "age = input('Are you a cigarette addict older than 75 years old?(y/n): ')\n",
    "chronic = input('Do you have a severe chronic disease?(y/n): ')\n",
    "immune = input('Is your immune system too weak?(y/n): ')\n",
    "\n",
    "age = age=='y' or age=='Y'\n",
    "chronic = chronic=='y'or chronic=='Y'\n",
    "immune = immune=='y'or immune=='Y'\n",
    "risk = age or chronic or immune\n",
    "print('Risk of death: ',risk)"
   ]
  },
  {
   "cell_type": "code",
   "execution_count": null,
   "metadata": {},
   "outputs": [],
   "source": [
    "type(age)"
   ]
  },
  {
   "cell_type": "code",
   "execution_count": null,
   "metadata": {},
   "outputs": [],
   "source": [
    "age"
   ]
  },
  {
   "cell_type": "code",
   "execution_count": null,
   "metadata": {},
   "outputs": [],
   "source": [
    "read(\"I love Python\")"
   ]
  },
  {
   "cell_type": "code",
   "execution_count": null,
   "metadata": {},
   "outputs": [],
   "source": [
    "a=5!=6\n",
    "a"
   ]
  },
  {
   "cell_type": "code",
   "execution_count": null,
   "metadata": {
    "scrolled": true
   },
   "outputs": [],
   "source": [
    "x = 0\n",
    "for i in range(1, 1001):\n",
    "    x+=i\n",
    "x"
   ]
  },
  {
   "cell_type": "code",
   "execution_count": null,
   "metadata": {},
   "outputs": [],
   "source": [
    "ls = [1,2,3,4,5]"
   ]
  },
  {
   "cell_type": "code",
   "execution_count": null,
   "metadata": {},
   "outputs": [],
   "source": [
    "print(f\"{286/788*45} = kdcksc {ls[0:3]*5}\")"
   ]
  },
  {
   "cell_type": "code",
   "execution_count": null,
   "metadata": {},
   "outputs": [],
   "source": [
    "type(f\"3*5\")"
   ]
  },
  {
   "cell_type": "code",
   "execution_count": null,
   "metadata": {},
   "outputs": [],
   "source": [
    "name = \"MARIAM\"\n",
    "print(f\"My name is {name.capitalize()}\")"
   ]
  },
  {
   "cell_type": "code",
   "execution_count": null,
   "metadata": {},
   "outputs": [],
   "source": [
    "message = f\"svnsn s{34985}\"\\\n",
    "          f\"sdjbvsj{876}\"\\\n",
    "          f\"kdjnks{74865}\"\n",
    "          \n",
    "        "
   ]
  },
  {
   "cell_type": "code",
   "execution_count": null,
   "metadata": {},
   "outputs": [],
   "source": [
    "message"
   ]
  },
  {
   "cell_type": "code",
   "execution_count": null,
   "metadata": {},
   "outputs": [],
   "source": [
    "print('dnvksnvsnvsn\\\n",
    "dvmlsvlsvsldk v\\ldkvnlsknn\\,dv s v\\\n",
    ",dm vcmsv csm ')"
   ]
  },
  {
   "cell_type": "code",
   "execution_count": null,
   "metadata": {},
   "outputs": [],
   "source": [
    "name = 'Susan'\n",
    "age = 'young'\n",
    "gender = 'lady'\n",
    "school = 'IT university'\n",
    "print(f\"{name}is a {age}{g}\"\\\n",
    "     )"
   ]
  },
  {
   "cell_type": "code",
   "execution_count": null,
   "metadata": {},
   "outputs": [],
   "source": [
    "name = 'Susan'\n",
    "age = 'young'\n",
    "gender = 'lady'\n",
    "school = \"CLRWY It university\"\n",
    "message =(\n",
    "    f\"{name} is a \"\n",
    "    f\" {age} {gender} and she is a student at the  \"\n",
    "    f\"{school}\"\n",
    ")\n",
    "print(message)"
   ]
  },
  {
   "cell_type": "code",
   "execution_count": null,
   "metadata": {},
   "outputs": [],
   "source": [
    "word = 'clarusway'\n",
    "n = 3\n",
    "front = f\"{word[:n]}\"\n",
    "back = f\"{word[n:]}\"\n",
    "print(front + back)"
   ]
  },
  {
   "cell_type": "code",
   "execution_count": null,
   "metadata": {},
   "outputs": [],
   "source": [
    "text = 'S0d0me and G0m0re'\n",
    "new_text = text.replace('0', 'o')\n",
    "print(new_text)"
   ]
  },
  {
   "cell_type": "code",
   "execution_count": null,
   "metadata": {},
   "outputs": [],
   "source": [
    "t = 'iniiiteriiiobilinntynini'\n",
    "print(t.strip('in'))"
   ]
  },
  {
   "cell_type": "code",
   "execution_count": null,
   "metadata": {},
   "outputs": [],
   "source": [
    "text = 'tyou can learn almost everything in pre-classz'"
   ]
  },
  {
   "cell_type": "code",
   "execution_count": null,
   "metadata": {},
   "outputs": [],
   "source": [
    "print(text.lsplit('t').rsplit('z').upper())"
   ]
  },
  {
   "cell_type": "code",
   "execution_count": null,
   "metadata": {},
   "outputs": [],
   "source": [
    "a = 'selman23%4'"
   ]
  },
  {
   "cell_type": "code",
   "execution_count": null,
   "metadata": {},
   "outputs": [],
   "source": [
    "a.isalnum()"
   ]
  },
  {
   "cell_type": "code",
   "execution_count": null,
   "metadata": {},
   "outputs": [],
   "source": []
  },
  {
   "cell_type": "code",
   "execution_count": null,
   "metadata": {},
   "outputs": [],
   "source": [
    "email = \"clarusway@clarusway.com is my e-mail address\"\n",
    "print(email.startswith(\"@\", 9))\n",
    "print(email.endswith(\"-\", 31,32))"
   ]
  },
  {
   "cell_type": "code",
   "execution_count": null,
   "metadata": {},
   "outputs": [],
   "source": [
    "email[31]"
   ]
  },
  {
   "cell_type": "code",
   "execution_count": null,
   "metadata": {},
   "outputs": [],
   "source": [
    "grocer = [\"banana\", [\"orange\", [\"apple\", \"eggplant\", \"melon\", \"spinach\", \"cheese\", \"leek\" ], \"water\"], \"mandarin\"]"
   ]
  },
  {
   "cell_type": "code",
   "execution_count": null,
   "metadata": {},
   "outputs": [],
   "source": [
    "grocer[1][1][1::2]"
   ]
  },
  {
   "cell_type": "code",
   "execution_count": null,
   "metadata": {},
   "outputs": [],
   "source": [
    "sayilar = [0, [1, [2, 3, 4, 5, 6, 7], 8], 9]\n",
    "sayilar[1][1][::4]"
   ]
  },
  {
   "cell_type": "code",
   "execution_count": null,
   "metadata": {},
   "outputs": [],
   "source": [
    "flowers = [[\"jasmine\", [\"lavender\", \"rose\"], \"tulip\"]]\n",
    "colors = [\"red\", (\"blue\", [\"yellow\", \"green\"]), \"pink\"]\n",
    "text = \"My two favorite flowers are {} and {}, two favorite colors are {} and {}.\".format(flowers[0][2], flowers[0][1][1], colors[1][0], colors[1][1][1])\n",
    "print(text)"
   ]
  },
  {
   "cell_type": "code",
   "execution_count": null,
   "metadata": {},
   "outputs": [],
   "source": [
    "flowers = [[\"jasmine\", [\"lavender\", \"rose\"], \"tulip\"]]\n",
    "flowers[0][2]"
   ]
  },
  {
   "cell_type": "code",
   "execution_count": null,
   "metadata": {},
   "outputs": [],
   "source": [
    "colors = [\"red\", (\"blue\", [\"yellow\", \"green\"]), \"pink\"]\n",
    "colors[1][0]\n",
    "colors[1][1][1]"
   ]
  },
  {
   "cell_type": "code",
   "execution_count": null,
   "metadata": {},
   "outputs": [],
   "source": [
    "escapes = [\"\\n\\t\", (\"\\t\", \"\\t\\t\"), [\"\\n\", \"\\n\\t\\t\"]]\n",
    "\n",
    "sentence = \"I am 40 years old.{} I have two children.{} Data Science is my IT domain.\".format(escapes[0], escapes[2][1])\n",
    "\n",
    "print(sentence)\n"
   ]
  },
  {
   "cell_type": "code",
   "execution_count": null,
   "metadata": {},
   "outputs": [],
   "source": [
    "ls = list(range(1,11))\n",
    "ls.sort(reverse=True)\n",
    "print(ls)"
   ]
  },
  {
   "cell_type": "code",
   "execution_count": null,
   "metadata": {
    "scrolled": true
   },
   "outputs": [],
   "source": [
    "ls"
   ]
  },
  {
   "cell_type": "code",
   "execution_count": null,
   "metadata": {},
   "outputs": [],
   "source": [
    "dict_by_dict = {'animal': 'dog',\n",
    "                'planet': 'neptun',\n",
    "                'number': 40,\n",
    "                'pi': 3.14,\n",
    "                'is_good': True}\n",
    "\n",
    "print(dict_by_dict.items(), '\\n')\n",
    "print(dict_by_dict.keys(), '\\n')\n",
    "print(dict_by_dict.values())\n"
   ]
  },
  {
   "cell_type": "code",
   "execution_count": null,
   "metadata": {
    "scrolled": true
   },
   "outputs": [],
   "source": [
    "a = list(dict_by_dict.items())\n",
    "type(a)"
   ]
  },
  {
   "cell_type": "code",
   "execution_count": null,
   "metadata": {},
   "outputs": [],
   "source": [
    "a"
   ]
  },
  {
   "cell_type": "code",
   "execution_count": null,
   "metadata": {},
   "outputs": [],
   "source": [
    "dict_by_dict = {'animal': 'dog',\n",
    "                'planet': 'neptun',\n",
    "                'number': 40,\n",
    "                'pi': 3.14,\n",
    "                'is_good': True}\n",
    "\n",
    "dict_by_dict.update({'is_bad': False})\n",
    "\n",
    "print(dict_by_dict)\n"
   ]
  },
  {
   "cell_type": "code",
   "execution_count": null,
   "metadata": {},
   "outputs": [],
   "source": [
    "student_ages = {\"Harry\": 29,\n",
    "                \"Clark\": 32,\n",
    "                \"Peter\": 22,\n",
    "                \"Bruce\": 36\n",
    "                }"
   ]
  },
  {
   "cell_type": "code",
   "execution_count": null,
   "metadata": {},
   "outputs": [],
   "source": [
    "print(student_ages['Peter'])"
   ]
  },
  {
   "cell_type": "code",
   "execution_count": null,
   "metadata": {},
   "outputs": [],
   "source": [
    "school_records={\n",
    "    \"personal_info\":\n",
    "        {\"kid\":{\"tom\": {\"class\": \"intermediate\", \"age\": 10},\n",
    "                \"sue\": {\"class\": \"elementary\", \"age\": 8}\n",
    "               },\n",
    "         \"teen\":{\"joseph\":{\"class\": \"college\", \"age\": 19},\n",
    "                 \"marry\":{\"class\": \"high school\", \"age\": 16}\n",
    "               },               \n",
    "        },\n",
    "        \n",
    "    \"grades_info\":\n",
    "        {\"kid\":{\"tom\": {\"math\": 88, \"speech\": 69},\n",
    "                \"sue\": {\"math\": 90, \"speech\": 81}\n",
    "               },\n",
    "         \"teen\":{\"joseph\":{\"coding\": 80, \"math\": 89},\n",
    "                 \"marry\":{\"coding\": 70, \"math\": 96}\n",
    "               },               \n",
    "        },        \n",
    "}\n"
   ]
  },
  {
   "cell_type": "code",
   "execution_count": null,
   "metadata": {},
   "outputs": [],
   "source": [
    "school_records['personal_info'].keys()"
   ]
  },
  {
   "cell_type": "code",
   "execution_count": null,
   "metadata": {},
   "outputs": [],
   "source": [
    "# >>> tel = {'jack': 4098, 'sape': 4139}\n",
    ">>> tel['guido'] = 4127\n",
    ">>> tel\n",
    "{'jack': 4098, 'sape': 4139, 'guido': 4127}\n",
    ">>> tel['jack']\n",
    "4098\n",
    ">>> del tel['sape']\n",
    ">>> tel['irv'] = 4127\n",
    ">>> tel\n",
    "{'jack': 4098, 'guido': 4127, 'irv': 4127}\n",
    ">>> list(tel)\n",
    "['jack', 'guido', 'irv']\n",
    ">>> sorted(tel)\n",
    "['guido', 'irv', 'jack']\n",
    ">>> 'guido' in tel\n",
    "True\n",
    ">>> 'jack' not in tel\n",
    "False"
   ]
  },
  {
   "cell_type": "code",
   "execution_count": null,
   "metadata": {},
   "outputs": [],
   "source": [
    "colorset = {'purple', 'orange', 'red', 'darkblue', 'yellow', 'red'}\n",
    "\n",
    "print(colorset)"
   ]
  },
  {
   "cell_type": "code",
   "execution_count": null,
   "metadata": {},
   "outputs": [],
   "source": [
    "print(colorset)"
   ]
  },
  {
   "cell_type": "code",
   "execution_count": null,
   "metadata": {},
   "outputs": [],
   "source": [
    "a = set((1,2,3,4))"
   ]
  },
  {
   "cell_type": "code",
   "execution_count": null,
   "metadata": {},
   "outputs": [],
   "source": [
    "a"
   ]
  },
  {
   "cell_type": "code",
   "execution_count": null,
   "metadata": {},
   "outputs": [],
   "source": [
    "a = set('abracadabra')\n",
    "b = set('alacazam')\n",
    "\n",
    "print(a - b)  # same as '.difference()' method\n",
    "print(a.difference(b)) # a difference from b"
   ]
  },
  {
   "cell_type": "code",
   "execution_count": null,
   "metadata": {},
   "outputs": [],
   "source": [
    "a"
   ]
  },
  {
   "cell_type": "code",
   "execution_count": null,
   "metadata": {},
   "outputs": [],
   "source": [
    "b"
   ]
  },
  {
   "cell_type": "code",
   "execution_count": null,
   "metadata": {},
   "outputs": [],
   "source": [
    "a = set('abracadabra')\n",
    "b = set('alacazam')\n",
    "\n",
    "print(a | b)  # same as '.union()' method\n",
    "print(a.union(b)) # unification of a with b"
   ]
  },
  {
   "cell_type": "code",
   "execution_count": null,
   "metadata": {},
   "outputs": [],
   "source": [
    "a = set('abracadabra')\n",
    "b = set('alacazam')\n",
    "\n",
    "print(a & b)  # same as '.intersection()' method\n",
    "print(a.intersection(b)) # intersection of a and b"
   ]
  },
  {
   "cell_type": "code",
   "execution_count": null,
   "metadata": {},
   "outputs": [],
   "source": [
    "print(len(set('listen to the voice of enlisted')))"
   ]
  },
  {
   "cell_type": "code",
   "execution_count": null,
   "metadata": {
    "scrolled": true
   },
   "outputs": [],
   "source": [
    "n = int(input('number: '))\n",
    "ls = []\n",
    "for i in range(n+1):\n",
    "    ls[i] = int(input())\n",
    "\n",
    "ls\n"
   ]
  },
  {
   "cell_type": "code",
   "execution_count": null,
   "metadata": {},
   "outputs": [],
   "source": []
  },
  {
   "cell_type": "code",
   "execution_count": null,
   "metadata": {},
   "outputs": [],
   "source": []
  },
  {
   "cell_type": "code",
   "execution_count": null,
   "metadata": {},
   "outputs": [],
   "source": [
    "d= dict(numbers='1,2,3', letters= 'a,b,c')"
   ]
  },
  {
   "cell_type": "code",
   "execution_count": null,
   "metadata": {},
   "outputs": [],
   "source": [
    "first_dict = {1:'one', 'two':2, False:[1,2,3]}"
   ]
  },
  {
   "cell_type": "code",
   "execution_count": null,
   "metadata": {},
   "outputs": [],
   "source": [
    "first_dict"
   ]
  },
  {
   "cell_type": "code",
   "execution_count": null,
   "metadata": {},
   "outputs": [],
   "source": [
    "d['numbers']"
   ]
  },
  {
   "cell_type": "code",
   "execution_count": null,
   "metadata": {},
   "outputs": [],
   "source": [
    "d.values()"
   ]
  },
  {
   "cell_type": "code",
   "execution_count": null,
   "metadata": {},
   "outputs": [],
   "source": [
    "d.keys()"
   ]
  },
  {
   "cell_type": "code",
   "execution_count": null,
   "metadata": {},
   "outputs": [],
   "source": [
    "d.items()"
   ]
  },
  {
   "cell_type": "code",
   "execution_count": null,
   "metadata": {},
   "outputs": [],
   "source": [
    "family = {'name1':'omer', 'name2':'zeynep', 'name3':'zehra'}"
   ]
  },
  {
   "cell_type": "code",
   "execution_count": null,
   "metadata": {},
   "outputs": [],
   "source": [
    "family['name4']='gul'"
   ]
  },
  {
   "cell_type": "code",
   "execution_count": null,
   "metadata": {},
   "outputs": [],
   "source": [
    "family"
   ]
  },
  {
   "cell_type": "code",
   "execution_count": null,
   "metadata": {},
   "outputs": [],
   "source": [
    "len(family)"
   ]
  },
  {
   "cell_type": "code",
   "execution_count": null,
   "metadata": {},
   "outputs": [],
   "source": [
    "for i in family.values():\n",
    "    print(i)"
   ]
  },
  {
   "cell_type": "code",
   "execution_count": null,
   "metadata": {},
   "outputs": [],
   "source": [
    "sayilar = {'tek': [1,3,5,7,9], 'cift':[2,4,6,8]}"
   ]
  },
  {
   "cell_type": "code",
   "execution_count": null,
   "metadata": {},
   "outputs": [],
   "source": [
    "sayilar['tek'].append(11)"
   ]
  },
  {
   "cell_type": "code",
   "execution_count": null,
   "metadata": {},
   "outputs": [],
   "source": [
    "sayilar"
   ]
  },
  {
   "cell_type": "code",
   "execution_count": null,
   "metadata": {},
   "outputs": [],
   "source": [
    "sayilar['tek'].insert(4,13)"
   ]
  },
  {
   "cell_type": "code",
   "execution_count": null,
   "metadata": {},
   "outputs": [],
   "source": [
    "sayilar"
   ]
  },
  {
   "cell_type": "code",
   "execution_count": null,
   "metadata": {},
   "outputs": [],
   "source": [
    "meyveler = {}.fromkeys(['elma','armut'],0)"
   ]
  },
  {
   "cell_type": "code",
   "execution_count": null,
   "metadata": {},
   "outputs": [],
   "source": [
    "meyveler"
   ]
  },
  {
   "cell_type": "code",
   "execution_count": null,
   "metadata": {},
   "outputs": [],
   "source": [
    "meyveler['elma']+=1"
   ]
  },
  {
   "cell_type": "code",
   "execution_count": null,
   "metadata": {},
   "outputs": [],
   "source": [
    "meyveler['armut']+=1"
   ]
  },
  {
   "cell_type": "code",
   "execution_count": null,
   "metadata": {},
   "outputs": [],
   "source": [
    "meyveler"
   ]
  },
  {
   "cell_type": "code",
   "execution_count": null,
   "metadata": {},
   "outputs": [],
   "source": [
    "family"
   ]
  },
  {
   "cell_type": "code",
   "execution_count": null,
   "metadata": {},
   "outputs": [],
   "source": [
    "del family['name4']"
   ]
  },
  {
   "cell_type": "code",
   "execution_count": null,
   "metadata": {},
   "outputs": [],
   "source": [
    "family"
   ]
  },
  {
   "cell_type": "code",
   "execution_count": null,
   "metadata": {},
   "outputs": [],
   "source": [
    "a = 'omer' in family.items()\n",
    "a"
   ]
  },
  {
   "cell_type": "code",
   "execution_count": null,
   "metadata": {},
   "outputs": [],
   "source": [
    "'name1' in family"
   ]
  },
  {
   "cell_type": "code",
   "execution_count": null,
   "metadata": {},
   "outputs": [],
   "source": [
    "school_records={\n",
    "\t'personal_info':\n",
    "\t\t{'kid':{'tom':{'class':'intermediate', 'age':10},\n",
    "\t\t\t'sue':{'class':'elemantary', 'age':8}\n",
    "\t\t\t},\n",
    "\t\t'teen':{'joseph':{'class':'college', 'age':19},\n",
    "\t\t\t'marry':{'class':'high school', 'age':16}\n",
    "\t\t\t},\n",
    "\t\t},\n",
    "\t'grades_info':\n",
    "\t\t{'kid':{'tom':{'math':88, 'speech':69},\n",
    "\t\t\t'sue':{'math':90, 'speech':81}\n",
    "\t\t\t},\n",
    "\t\t'teen':{'joseph':{'coding':80, 'math':89},\n",
    "\t\t\t'marry':{'coding':70, 'math':96}\n",
    "\t\t\t},\n",
    "\t\t}\n",
    "}"
   ]
  },
  {
   "cell_type": "code",
   "execution_count": null,
   "metadata": {},
   "outputs": [],
   "source": [
    "len(school_records)"
   ]
  },
  {
   "cell_type": "code",
   "execution_count": null,
   "metadata": {},
   "outputs": [],
   "source": [
    "list(school_records['grades_info']['teen']['joseph'].items())"
   ]
  },
  {
   "cell_type": "code",
   "execution_count": null,
   "metadata": {},
   "outputs": [],
   "source": [
    "school_records['grades_info']['teen']['joseph']"
   ]
  },
  {
   "cell_type": "code",
   "execution_count": null,
   "metadata": {},
   "outputs": [],
   "source": []
  },
  {
   "cell_type": "code",
   "execution_count": null,
   "metadata": {},
   "outputs": [],
   "source": []
  },
  {
   "cell_type": "code",
   "execution_count": null,
   "metadata": {},
   "outputs": [],
   "source": []
  },
  {
   "cell_type": "code",
   "execution_count": 5,
   "metadata": {},
   "outputs": [
    {
     "data": {
      "text/plain": [
       "{'blue', 'orange', 'pink', 'red'}"
      ]
     },
     "execution_count": 5,
     "metadata": {},
     "output_type": "execute_result"
    }
   ],
   "source": [
    "colors = 'red', 'blue', 'pink', 'red', 'orange'\n",
    "set1 = set(colors)\n",
    "set1"
   ]
  },
  {
   "cell_type": "code",
   "execution_count": 10,
   "metadata": {},
   "outputs": [],
   "source": [
    "letter = 'q a z w s x e d c r f v t g b y h n u j m i k o l p'.split()"
   ]
  },
  {
   "cell_type": "code",
   "execution_count": 11,
   "metadata": {
    "collapsed": true
   },
   "outputs": [
    {
     "data": {
      "text/plain": [
       "['q',\n",
       " 'a',\n",
       " 'z',\n",
       " 'w',\n",
       " 's',\n",
       " 'x',\n",
       " 'e',\n",
       " 'd',\n",
       " 'c',\n",
       " 'r',\n",
       " 'f',\n",
       " 'v',\n",
       " 't',\n",
       " 'g',\n",
       " 'b',\n",
       " 'y',\n",
       " 'h',\n",
       " 'n',\n",
       " 'u',\n",
       " 'j',\n",
       " 'm',\n",
       " 'i',\n",
       " 'k',\n",
       " 'o',\n",
       " 'l',\n",
       " 'p']"
      ]
     },
     "execution_count": 11,
     "metadata": {},
     "output_type": "execute_result"
    }
   ],
   "source": [
    "letter"
   ]
  },
  {
   "cell_type": "code",
   "execution_count": null,
   "metadata": {},
   "outputs": [],
   "source": []
  },
  {
   "cell_type": "code",
   "execution_count": 3,
   "metadata": {},
   "outputs": [
    {
     "data": {
      "text/plain": [
       "6"
      ]
     },
     "execution_count": 3,
     "metadata": {},
     "output_type": "execute_result"
    }
   ],
   "source": [
    "n = 6\n",
    "n"
   ]
  },
  {
   "cell_type": "code",
   "execution_count": 12,
   "metadata": {},
   "outputs": [],
   "source": [
    "a = set('philadelphia')\n",
    "b= set('dolphin')"
   ]
  },
  {
   "cell_type": "code",
   "execution_count": 13,
   "metadata": {},
   "outputs": [
    {
     "data": {
      "text/plain": [
       "{'a', 'd', 'e', 'h', 'i', 'l', 'p'}"
      ]
     },
     "execution_count": 13,
     "metadata": {},
     "output_type": "execute_result"
    }
   ],
   "source": [
    "a"
   ]
  },
  {
   "cell_type": "code",
   "execution_count": 14,
   "metadata": {},
   "outputs": [
    {
     "data": {
      "text/plain": [
       "{'d', 'h', 'i', 'l', 'n', 'o', 'p'}"
      ]
     },
     "execution_count": 14,
     "metadata": {},
     "output_type": "execute_result"
    }
   ],
   "source": [
    "b"
   ]
  },
  {
   "cell_type": "code",
   "execution_count": 15,
   "metadata": {},
   "outputs": [
    {
     "data": {
      "text/plain": [
       "{'a', 'd', 'e', 'h', 'i', 'l', 'n', 'o', 'p'}"
      ]
     },
     "execution_count": 15,
     "metadata": {},
     "output_type": "execute_result"
    }
   ],
   "source": [
    "a.union(b)"
   ]
  },
  {
   "cell_type": "code",
   "execution_count": 16,
   "metadata": {},
   "outputs": [
    {
     "data": {
      "text/plain": [
       "{'d', 'h', 'i', 'l', 'p'}"
      ]
     },
     "execution_count": 16,
     "metadata": {},
     "output_type": "execute_result"
    }
   ],
   "source": [
    "a.intersection(b)"
   ]
  },
  {
   "cell_type": "code",
   "execution_count": 17,
   "metadata": {},
   "outputs": [
    {
     "data": {
      "text/plain": [
       "{'a', 'e'}"
      ]
     },
     "execution_count": 17,
     "metadata": {},
     "output_type": "execute_result"
    }
   ],
   "source": [
    "a.difference(b)"
   ]
  },
  {
   "cell_type": "code",
   "execution_count": 19,
   "metadata": {},
   "outputs": [
    {
     "data": {
      "text/plain": [
       "{'n', 'o'}"
      ]
     },
     "execution_count": 19,
     "metadata": {},
     "output_type": "execute_result"
    }
   ],
   "source": [
    "b.difference(a)"
   ]
  },
  {
   "cell_type": "code",
   "execution_count": 22,
   "metadata": {},
   "outputs": [
    {
     "data": {
      "text/plain": [
       "{'/', '0', '1', '2', '7'}"
      ]
     },
     "execution_count": 22,
     "metadata": {},
     "output_type": "execute_result"
    }
   ],
   "source": [
    "date = '12/07/2021'\n",
    "set(date)"
   ]
  },
  {
   "cell_type": "code",
   "execution_count": 23,
   "metadata": {},
   "outputs": [],
   "source": [
    "given_list = [1, 2, 3, 3, 3, 3, 4, 4, 5, 5]\n",
    "s = set(given_list)"
   ]
  },
  {
   "cell_type": "code",
   "execution_count": 25,
   "metadata": {},
   "outputs": [
    {
     "data": {
      "text/plain": [
       "5"
      ]
     },
     "execution_count": 25,
     "metadata": {},
     "output_type": "execute_result"
    }
   ],
   "source": [
    "len(s)"
   ]
  },
  {
   "cell_type": "code",
   "execution_count": 31,
   "metadata": {},
   "outputs": [],
   "source": [
    "s = set()\n",
    "s.add('f')"
   ]
  },
  {
   "cell_type": "code",
   "execution_count": 32,
   "metadata": {},
   "outputs": [
    {
     "data": {
      "text/plain": [
       "{'f'}"
      ]
     },
     "execution_count": 32,
     "metadata": {},
     "output_type": "execute_result"
    }
   ],
   "source": [
    "s"
   ]
  },
  {
   "cell_type": "code",
   "execution_count": 33,
   "metadata": {},
   "outputs": [],
   "source": [
    "a = \"wellington\"\n",
    "b = 'washington'\n",
    "a = set(a)\n",
    "b = set(b)"
   ]
  },
  {
   "cell_type": "code",
   "execution_count": 39,
   "metadata": {},
   "outputs": [
    {
     "data": {
      "text/plain": [
       "{'g', 'i', 'n', 'o', 't', 'w'}"
      ]
     },
     "execution_count": 39,
     "metadata": {},
     "output_type": "execute_result"
    }
   ],
   "source": [
    "a&b"
   ]
  },
  {
   "cell_type": "code",
   "execution_count": 35,
   "metadata": {},
   "outputs": [
    {
     "data": {
      "text/plain": [
       "{'g', 'i', 'n', 'o', 't', 'w'}"
      ]
     },
     "execution_count": 35,
     "metadata": {},
     "output_type": "execute_result"
    }
   ],
   "source": [
    "a.intersection(b)"
   ]
  },
  {
   "cell_type": "code",
   "execution_count": 36,
   "metadata": {},
   "outputs": [
    {
     "data": {
      "text/plain": [
       "{'a', 'h', 's'}"
      ]
     },
     "execution_count": 36,
     "metadata": {},
     "output_type": "execute_result"
    }
   ],
   "source": [
    "b-a"
   ]
  },
  {
   "cell_type": "code",
   "execution_count": 37,
   "metadata": {},
   "outputs": [
    {
     "data": {
      "text/plain": [
       "{'e', 'l'}"
      ]
     },
     "execution_count": 37,
     "metadata": {},
     "output_type": "execute_result"
    }
   ],
   "source": [
    "a-b"
   ]
  },
  {
   "cell_type": "code",
   "execution_count": 41,
   "metadata": {},
   "outputs": [
    {
     "data": {
      "text/plain": [
       "{}"
      ]
     },
     "execution_count": 41,
     "metadata": {},
     "output_type": "execute_result"
    }
   ],
   "source": [
    "# None\n",
    "\n",
    "[]\n",
    "()\n",
    "''\n",
    "0\n",
    "0.0\n",
    "0j\n",
    "{}\n"
   ]
  },
  {
   "cell_type": "code",
   "execution_count": 48,
   "metadata": {},
   "outputs": [
    {
     "name": "stdout",
     "output_type": "stream",
     "text": [
      "Enter yes or no: \n"
     ]
    },
    {
     "data": {
      "text/plain": [
       "False"
      ]
     },
     "execution_count": 48,
     "metadata": {},
     "output_type": "execute_result"
    }
   ],
   "source": [
    "convert = input('Enter yes or no: ').title().strip() == 'Yes'\n",
    "convert\n",
    "\n"
   ]
  },
  {
   "cell_type": "code",
   "execution_count": 49,
   "metadata": {},
   "outputs": [
    {
     "name": "stdout",
     "output_type": "stream",
     "text": [
      "number: 7\n",
      "7 is odd\n"
     ]
    }
   ],
   "source": [
    "num = int(input('number: '))\n",
    "if num%2 == 0:\n",
    "    print(f'{num} is even')\n",
    "else:\n",
    "    print(f'{num} is odd')"
   ]
  },
  {
   "cell_type": "code",
   "execution_count": null,
   "metadata": {},
   "outputs": [],
   "source": []
  },
  {
   "cell_type": "code",
   "execution_count": 16,
   "metadata": {
    "collapsed": true
   },
   "outputs": [
    {
     "ename": "KeyboardInterrupt",
     "evalue": "Interrupted by user",
     "output_type": "error",
     "traceback": [
      "\u001b[0;31m---------------------------------------------------------------------------\u001b[0m",
      "\u001b[0;31mKeyboardInterrupt\u001b[0m                         Traceback (most recent call last)",
      "\u001b[0;32m<ipython-input-16-7c1058cdea20>\u001b[0m in \u001b[0;36m<module>\u001b[0;34m\u001b[0m\n\u001b[0;32m----> 1\u001b[0;31m \u001b[0mn\u001b[0m \u001b[0;34m=\u001b[0m \u001b[0minput\u001b[0m\u001b[0;34m(\u001b[0m\u001b[0;34m'your age: '\u001b[0m\u001b[0;34m)\u001b[0m\u001b[0;34m\u001b[0m\u001b[0;34m\u001b[0m\u001b[0m\n\u001b[0m\u001b[1;32m      2\u001b[0m \u001b[0;32mwhile\u001b[0m \u001b[0;32mnot\u001b[0m \u001b[0mn\u001b[0m\u001b[0;34m.\u001b[0m\u001b[0misdigit\u001b[0m\u001b[0;34m(\u001b[0m\u001b[0;34m)\u001b[0m\u001b[0;34m:\u001b[0m\u001b[0;34m\u001b[0m\u001b[0;34m\u001b[0m\u001b[0m\n\u001b[1;32m      3\u001b[0m     \u001b[0mprint\u001b[0m\u001b[0;34m(\u001b[0m\u001b[0;34m''\u001b[0m\u001b[0;34m)\u001b[0m\u001b[0;34m\u001b[0m\u001b[0;34m\u001b[0m\u001b[0m\n",
      "\u001b[0;32m/opt/anaconda3/lib/python3.8/site-packages/ipykernel/kernelbase.py\u001b[0m in \u001b[0;36mraw_input\u001b[0;34m(self, prompt)\u001b[0m\n\u001b[1;32m    858\u001b[0m                 \u001b[0;34m\"raw_input was called, but this frontend does not support input requests.\"\u001b[0m\u001b[0;34m\u001b[0m\u001b[0;34m\u001b[0m\u001b[0m\n\u001b[1;32m    859\u001b[0m             )\n\u001b[0;32m--> 860\u001b[0;31m         return self._input_request(str(prompt),\n\u001b[0m\u001b[1;32m    861\u001b[0m             \u001b[0mself\u001b[0m\u001b[0;34m.\u001b[0m\u001b[0m_parent_ident\u001b[0m\u001b[0;34m,\u001b[0m\u001b[0;34m\u001b[0m\u001b[0;34m\u001b[0m\u001b[0m\n\u001b[1;32m    862\u001b[0m             \u001b[0mself\u001b[0m\u001b[0;34m.\u001b[0m\u001b[0m_parent_header\u001b[0m\u001b[0;34m,\u001b[0m\u001b[0;34m\u001b[0m\u001b[0;34m\u001b[0m\u001b[0m\n",
      "\u001b[0;32m/opt/anaconda3/lib/python3.8/site-packages/ipykernel/kernelbase.py\u001b[0m in \u001b[0;36m_input_request\u001b[0;34m(self, prompt, ident, parent, password)\u001b[0m\n\u001b[1;32m    902\u001b[0m             \u001b[0;32mexcept\u001b[0m \u001b[0mKeyboardInterrupt\u001b[0m\u001b[0;34m:\u001b[0m\u001b[0;34m\u001b[0m\u001b[0;34m\u001b[0m\u001b[0m\n\u001b[1;32m    903\u001b[0m                 \u001b[0;31m# re-raise KeyboardInterrupt, to truncate traceback\u001b[0m\u001b[0;34m\u001b[0m\u001b[0;34m\u001b[0m\u001b[0;34m\u001b[0m\u001b[0m\n\u001b[0;32m--> 904\u001b[0;31m                 \u001b[0;32mraise\u001b[0m \u001b[0mKeyboardInterrupt\u001b[0m\u001b[0;34m(\u001b[0m\u001b[0;34m\"Interrupted by user\"\u001b[0m\u001b[0;34m)\u001b[0m \u001b[0;32mfrom\u001b[0m \u001b[0;32mNone\u001b[0m\u001b[0;34m\u001b[0m\u001b[0;34m\u001b[0m\u001b[0m\n\u001b[0m\u001b[1;32m    905\u001b[0m             \u001b[0;32mexcept\u001b[0m \u001b[0mException\u001b[0m \u001b[0;32mas\u001b[0m \u001b[0me\u001b[0m\u001b[0;34m:\u001b[0m\u001b[0;34m\u001b[0m\u001b[0;34m\u001b[0m\u001b[0m\n\u001b[1;32m    906\u001b[0m                 \u001b[0mself\u001b[0m\u001b[0;34m.\u001b[0m\u001b[0mlog\u001b[0m\u001b[0;34m.\u001b[0m\u001b[0mwarning\u001b[0m\u001b[0;34m(\u001b[0m\u001b[0;34m\"Invalid Message:\"\u001b[0m\u001b[0;34m,\u001b[0m \u001b[0mexc_info\u001b[0m\u001b[0;34m=\u001b[0m\u001b[0;32mTrue\u001b[0m\u001b[0;34m)\u001b[0m\u001b[0;34m\u001b[0m\u001b[0;34m\u001b[0m\u001b[0m\n",
      "\u001b[0;31mKeyboardInterrupt\u001b[0m: Interrupted by user"
     ]
    }
   ],
   "source": [
    "n = input('your age: ')\n",
    "while not n.isdigit():\n",
    "    print('')"
   ]
  },
  {
   "cell_type": "code",
   "execution_count": 28,
   "metadata": {},
   "outputs": [
    {
     "name": "stdout",
     "output_type": "stream",
     "text": [
      "your age: 45\n",
      "little lower\n",
      "your age: 67\n",
      "little lower\n",
      "your age: 23\n",
      "little higher\n",
      "your age: 33\n",
      "Right!\n"
     ]
    }
   ],
   "source": [
    "a = 33\n",
    "while True:\n",
    "    n = int(input('your age: '))\n",
    "    if n>33:\n",
    "        print('little lower')\n",
    "    elif n<33:\n",
    "        print('little higher')\n",
    "    else:\n",
    "        print('Right!')\n",
    "        break\n",
    "            "
   ]
  },
  {
   "cell_type": "code",
   "execution_count": 48,
   "metadata": {},
   "outputs": [
    {
     "name": "stdout",
     "output_type": "stream",
     "text": [
      "9\n"
     ]
    }
   ],
   "source": [
    "s = 'Clarusway is the best'\n",
    "ls = s.split()\n",
    "ls1 = []\n",
    "n = 0\n",
    "while n< len(s.strip('?,.! ').split()):\n",
    "    ls1.append(len(ls[n]))\n",
    "    n+=1\n",
    "print(max(ls1))"
   ]
  },
  {
   "cell_type": "code",
   "execution_count": 34,
   "metadata": {},
   "outputs": [
    {
     "data": {
      "text/plain": [
       "4"
      ]
     },
     "execution_count": 34,
     "metadata": {},
     "output_type": "execute_result"
    }
   ],
   "source": [
    "len(s.split())"
   ]
  },
  {
   "cell_type": "code",
   "execution_count": 43,
   "metadata": {},
   "outputs": [
    {
     "name": "stdout",
     "output_type": "stream",
     "text": [
      "enter a sentence: Clarusway is the best\n",
      "9\n"
     ]
    }
   ],
   "source": [
    "sentence = input(\"enter a sentence: \")\n",
    "liste = sentence.strip(\",.?\").split()\n",
    "maximum = 0\n",
    "index = 0\n",
    "boyut = len(liste)\n",
    "while boyut > 0:\n",
    "    a = len(liste[index])\n",
    "    if a > maximum:\n",
    "        maximum = a\n",
    "    index += 1\n",
    "    boyut -= 1\n",
    "print(maximum)"
   ]
  },
  {
   "cell_type": "code",
   "execution_count": 41,
   "metadata": {},
   "outputs": [
    {
     "data": {
      "text/plain": [
       "3"
      ]
     },
     "execution_count": 41,
     "metadata": {},
     "output_type": "execute_result"
    }
   ],
   "source": [
    "boyut"
   ]
  },
  {
   "cell_type": "code",
   "execution_count": 3,
   "metadata": {},
   "outputs": [
    {
     "name": "stdout",
     "output_type": "stream",
     "text": [
      "sentenceswedfcv jdvcnb jdvnb\n"
     ]
    },
    {
     "data": {
      "text/plain": [
       "'swedfcv'"
      ]
     },
     "execution_count": 3,
     "metadata": {},
     "output_type": "execute_result"
    }
   ],
   "source": [
    "x = input(\"sentence\")\n",
    "liste = max(x.split(), key= len)\n",
    "liste"
   ]
  },
  {
   "cell_type": "code",
   "execution_count": 55,
   "metadata": {},
   "outputs": [
    {
     "name": "stdout",
     "output_type": "stream",
     "text": [
      "hello Ahmed\n",
      "hello Aisha\n",
      "hello Adam\n",
      "hello Joseph\n",
      "hello Gabriel\n"
     ]
    }
   ],
   "source": [
    "names = [\"Ahmed\", \"Aisha\", \"Adam\", \"Joseph\", \"Gabriel\"]\n",
    "for i in names:\n",
    "    print('hello', i)"
   ]
  },
  {
   "cell_type": "code",
   "execution_count": 58,
   "metadata": {},
   "outputs": [
    {
     "data": {
      "text/plain": [
       "[1, 2, 3, 4, 5]"
      ]
     },
     "execution_count": 58,
     "metadata": {},
     "output_type": "execute_result"
    }
   ],
   "source": [
    "ls = []\n",
    "for i in range(1,6):\n",
    "    ls.append(i)\n",
    "ls"
   ]
  },
  {
   "cell_type": "code",
   "execution_count": 59,
   "metadata": {},
   "outputs": [
    {
     "data": {
      "text/plain": [
       "[1, 2, 3, 4, 5]"
      ]
     },
     "execution_count": 59,
     "metadata": {},
     "output_type": "execute_result"
    }
   ],
   "source": [
    "ls1 = [i for i in range(1,6)]\n",
    "ls1"
   ]
  },
  {
   "cell_type": "code",
   "execution_count": 61,
   "metadata": {},
   "outputs": [
    {
     "name": "stdout",
     "output_type": "stream",
     "text": [
      "C-l-a-r-u-s-w-a-y-"
     ]
    }
   ],
   "source": [
    "s = 'Clarusway'\n",
    "for i in s:\n",
    "    print(i+'-', end='')"
   ]
  },
  {
   "cell_type": "code",
   "execution_count": 71,
   "metadata": {},
   "outputs": [
    {
     "name": "stdout",
     "output_type": "stream",
     "text": [
      "c-l-a-r-u-s-w-a-y-\b"
     ]
    }
   ],
   "source": [
    "course = 'clarusway'\n",
    "s1 = ''\n",
    "for i in course:\n",
    "    s1+=i+'-'\n",
    "print(s1, end='\\b')"
   ]
  },
  {
   "cell_type": "code",
   "execution_count": 76,
   "metadata": {},
   "outputs": [
    {
     "name": "stdout",
     "output_type": "stream",
     "text": [
      "5\n",
      "5*0 = 0\n",
      "5*1 = 5\n",
      "5*2 = 10\n",
      "5*3 = 15\n",
      "5*4 = 20\n",
      "5*5 = 25\n",
      "5*6 = 30\n",
      "5*7 = 35\n",
      "5*8 = 40\n",
      "5*9 = 45\n",
      "5*10 = 50\n"
     ]
    }
   ],
   "source": [
    "n = int(input())\n",
    "for i in range(11):\n",
    "    print(f'{n}*{i} = {n*i}')"
   ]
  },
  {
   "cell_type": "code",
   "execution_count": 81,
   "metadata": {},
   "outputs": [
    {
     "name": "stdout",
     "output_type": "stream",
     "text": [
      "1\n",
      "22\n",
      "333\n",
      "4444\n",
      "55555\n",
      "666666\n",
      "7777777\n",
      "88888888\n",
      "999999999\n"
     ]
    }
   ],
   "source": [
    "for i in range(1,10):\n",
    "    print(i*f'{i}')"
   ]
  },
  {
   "cell_type": "code",
   "execution_count": 83,
   "metadata": {},
   "outputs": [
    {
     "name": "stdout",
     "output_type": "stream",
     "text": [
      "one 1\n",
      "two 2\n",
      "three 3\n",
      "four 4\n",
      "five 5\n"
     ]
    }
   ],
   "source": [
    "text = ['one', 'two', 'three', 'four', 'five']\n",
    "numbers = [1, 2, 3, 4, 5]\n",
    "for x, y in zip(text, numbers):\n",
    "    print(x,y)"
   ]
  },
  {
   "cell_type": "code",
   "execution_count": null,
   "metadata": {},
   "outputs": [],
   "source": []
  },
  {
   "cell_type": "code",
   "execution_count": 13,
   "metadata": {},
   "outputs": [
    {
     "name": "stdout",
     "output_type": "stream",
     "text": [
      "even:  3\n",
      "odd:  4\n"
     ]
    }
   ],
   "source": [
    "ls = [12, 34, 55, 87, 89, 56,77]\n",
    "even = 0\n",
    "odd = 0\n",
    "for i in ls:\n",
    "    if i % 2 == 0:\n",
    "        even+=1\n",
    "    else:\n",
    "        odd+=1\n",
    "print('even: ', even,)\n",
    "print('odd: ', odd)"
   ]
  },
  {
   "cell_type": "code",
   "execution_count": 17,
   "metadata": {},
   "outputs": [
    {
     "name": "stdout",
     "output_type": "stream",
     "text": [
      "2775\n"
     ]
    }
   ],
   "source": [
    "\n",
    "a = 0\n",
    "for i in range(75):\n",
    "    a+=i\n",
    "\n",
    "print(a)"
   ]
  },
  {
   "cell_type": "code",
   "execution_count": 18,
   "metadata": {},
   "outputs": [
    {
     "data": {
      "text/plain": [
       "2775"
      ]
     },
     "execution_count": 18,
     "metadata": {},
     "output_type": "execute_result"
    }
   ],
   "source": [
    "a = sum(i for i in range(1,75))\n",
    "a"
   ]
  },
  {
   "cell_type": "code",
   "execution_count": 20,
   "metadata": {},
   "outputs": [
    {
     "name": "stdout",
     "output_type": "stream",
     "text": [
      "susan is happy\n",
      "susan is sad\n",
      "tom is happy\n",
      "tom is sad\n",
      "edward is happy\n",
      "edward is sad\n"
     ]
    }
   ],
   "source": [
    "names = [\"susan\", \"tom\", \"edward\"] \n",
    "mood = [\"happy\", \"sad\"]\n",
    "for i in names:\n",
    "    for j in mood:\n",
    "        print(i, 'is', j)"
   ]
  },
  {
   "cell_type": "code",
   "execution_count": 21,
   "metadata": {},
   "outputs": [],
   "source": [
    "ls = []\n",
    "for i in range(5):\n",
    "    ls.append(i)"
   ]
  },
  {
   "cell_type": "code",
   "execution_count": 22,
   "metadata": {},
   "outputs": [
    {
     "data": {
      "text/plain": [
       "[0, 1, 2, 3, 4]"
      ]
     },
     "execution_count": 22,
     "metadata": {},
     "output_type": "execute_result"
    }
   ],
   "source": [
    "ls"
   ]
  },
  {
   "cell_type": "code",
   "execution_count": 23,
   "metadata": {},
   "outputs": [
    {
     "data": {
      "text/plain": [
       "[0, 1, 2, 3, 4]"
      ]
     },
     "execution_count": 23,
     "metadata": {},
     "output_type": "execute_result"
    }
   ],
   "source": [
    "ls1 = [i for i in range(5)]\n",
    "ls1"
   ]
  },
  {
   "cell_type": "code",
   "execution_count": 24,
   "metadata": {},
   "outputs": [
    {
     "data": {
      "text/plain": [
       "[0, 1, 2, 3, 4]"
      ]
     },
     "execution_count": 24,
     "metadata": {},
     "output_type": "execute_result"
    }
   ],
   "source": [
    "[*range(5)]"
   ]
  },
  {
   "cell_type": "code",
   "execution_count": 27,
   "metadata": {},
   "outputs": [
    {
     "data": {
      "text/plain": [
       "[7]"
      ]
     },
     "execution_count": 27,
     "metadata": {},
     "output_type": "execute_result"
    }
   ],
   "source": [
    "a=7\n",
    "[a if a >5 else 0]"
   ]
  },
  {
   "cell_type": "code",
   "execution_count": 28,
   "metadata": {},
   "outputs": [
    {
     "data": {
      "text/plain": [
       "0"
      ]
     },
     "execution_count": 28,
     "metadata": {},
     "output_type": "execute_result"
    }
   ],
   "source": [
    "1 if False else 0"
   ]
  },
  {
   "cell_type": "code",
   "execution_count": 37,
   "metadata": {},
   "outputs": [
    {
     "ename": "TypeError",
     "evalue": "unsupported operand type(s) for %: 'tuple' and 'int'",
     "output_type": "error",
     "traceback": [
      "\u001b[0;31m---------------------------------------------------------------------------\u001b[0m",
      "\u001b[0;31mTypeError\u001b[0m                                 Traceback (most recent call last)",
      "\u001b[0;32m<ipython-input-37-f83bf11a2ab0>\u001b[0m in \u001b[0;36m<module>\u001b[0;34m\u001b[0m\n\u001b[1;32m      1\u001b[0m \u001b[0mls\u001b[0m \u001b[0;34m=\u001b[0m \u001b[0;34m[\u001b[0m\u001b[0;36m0\u001b[0m\u001b[0;34m,\u001b[0m \u001b[0;36m1\u001b[0m\u001b[0;34m,\u001b[0m \u001b[0;36m2\u001b[0m\u001b[0;34m,\u001b[0m \u001b[0;36m3\u001b[0m\u001b[0;34m,\u001b[0m \u001b[0;36m4\u001b[0m\u001b[0;34m,\u001b[0m \u001b[0;36m5\u001b[0m\u001b[0;34m,\u001b[0m \u001b[0;34m(\u001b[0m\u001b[0;34m)\u001b[0m\u001b[0;34m,\u001b[0m \u001b[0;34m{\u001b[0m\u001b[0;34m}\u001b[0m\u001b[0;34m,\u001b[0m \u001b[0;34m[\u001b[0m\u001b[0;34m]\u001b[0m\u001b[0;34m]\u001b[0m\u001b[0;34m\u001b[0m\u001b[0;34m\u001b[0m\u001b[0m\n\u001b[0;32m----> 2\u001b[0;31m \u001b[0;34m[\u001b[0m\u001b[0ma\u001b[0m\u001b[0;34m**\u001b[0m\u001b[0;36m2\u001b[0m \u001b[0;32mfor\u001b[0m \u001b[0ma\u001b[0m \u001b[0;32min\u001b[0m \u001b[0mls\u001b[0m \u001b[0;32mif\u001b[0m \u001b[0ma\u001b[0m\u001b[0;34m%\u001b[0m\u001b[0;36m2\u001b[0m\u001b[0;34m]\u001b[0m\u001b[0;34m\u001b[0m\u001b[0;34m\u001b[0m\u001b[0m\n\u001b[0m",
      "\u001b[0;32m<ipython-input-37-f83bf11a2ab0>\u001b[0m in \u001b[0;36m<listcomp>\u001b[0;34m(.0)\u001b[0m\n\u001b[1;32m      1\u001b[0m \u001b[0mls\u001b[0m \u001b[0;34m=\u001b[0m \u001b[0;34m[\u001b[0m\u001b[0;36m0\u001b[0m\u001b[0;34m,\u001b[0m \u001b[0;36m1\u001b[0m\u001b[0;34m,\u001b[0m \u001b[0;36m2\u001b[0m\u001b[0;34m,\u001b[0m \u001b[0;36m3\u001b[0m\u001b[0;34m,\u001b[0m \u001b[0;36m4\u001b[0m\u001b[0;34m,\u001b[0m \u001b[0;36m5\u001b[0m\u001b[0;34m,\u001b[0m \u001b[0;34m(\u001b[0m\u001b[0;34m)\u001b[0m\u001b[0;34m,\u001b[0m \u001b[0;34m{\u001b[0m\u001b[0;34m}\u001b[0m\u001b[0;34m,\u001b[0m \u001b[0;34m[\u001b[0m\u001b[0;34m]\u001b[0m\u001b[0;34m]\u001b[0m\u001b[0;34m\u001b[0m\u001b[0;34m\u001b[0m\u001b[0m\n\u001b[0;32m----> 2\u001b[0;31m \u001b[0;34m[\u001b[0m\u001b[0ma\u001b[0m\u001b[0;34m**\u001b[0m\u001b[0;36m2\u001b[0m \u001b[0;32mfor\u001b[0m \u001b[0ma\u001b[0m \u001b[0;32min\u001b[0m \u001b[0mls\u001b[0m \u001b[0;32mif\u001b[0m \u001b[0ma\u001b[0m\u001b[0;34m%\u001b[0m\u001b[0;36m2\u001b[0m\u001b[0;34m]\u001b[0m\u001b[0;34m\u001b[0m\u001b[0;34m\u001b[0m\u001b[0m\n\u001b[0m",
      "\u001b[0;31mTypeError\u001b[0m: unsupported operand type(s) for %: 'tuple' and 'int'"
     ]
    }
   ],
   "source": [
    "ls = [0, 1, 2, 3, 4, 5, (), {}, []]\n",
    "[a**2 for a in ls if a%2]"
   ]
  },
  {
   "cell_type": "code",
   "execution_count": 35,
   "metadata": {},
   "outputs": [
    {
     "name": "stdout",
     "output_type": "stream",
     "text": [
      "1\n",
      "2\n",
      "3\n",
      "4\n",
      "5\n"
     ]
    }
   ],
   "source": [
    "for i in filter(None, ls):\n",
    "    print(i)"
   ]
  },
  {
   "cell_type": "code",
   "execution_count": null,
   "metadata": {},
   "outputs": [],
   "source": []
  },
  {
   "cell_type": "code",
   "execution_count": 5,
   "metadata": {},
   "outputs": [],
   "source": [
    "generate = (i**2 for i in range(6))"
   ]
  },
  {
   "cell_type": "code",
   "execution_count": 9,
   "metadata": {},
   "outputs": [
    {
     "name": "stdout",
     "output_type": "stream",
     "text": [
      "9 16 25\n"
     ]
    }
   ],
   "source": [
    "print(*generate)"
   ]
  },
  {
   "cell_type": "code",
   "execution_count": null,
   "metadata": {},
   "outputs": [],
   "source": [
    "for i in generate:\n",
    "    print(i)"
   ]
  },
  {
   "cell_type": "code",
   "execution_count": 8,
   "metadata": {},
   "outputs": [
    {
     "name": "stdout",
     "output_type": "stream",
     "text": [
      "4\n"
     ]
    }
   ],
   "source": [
    "print(next(generate))"
   ]
  },
  {
   "cell_type": "code",
   "execution_count": 16,
   "metadata": {},
   "outputs": [],
   "source": [
    "def calculator(a, b, opr):\n",
    "    if opr not in ('+', '-', '/', '*'):\n",
    "        print('Enter valid argument')\n",
    "    else:\n",
    "        if opr == '+':\n",
    "            print(a+b)\n",
    "        elif opr == '-':\n",
    "            print(a-b)\n",
    "        elif opr == '/':\n",
    "            print(a/b)\n",
    "        else: print(a*b)\n"
   ]
  },
  {
   "cell_type": "code",
   "execution_count": 17,
   "metadata": {},
   "outputs": [
    {
     "name": "stdout",
     "output_type": "stream",
     "text": [
      "Enter valid argument\n"
     ]
    }
   ],
   "source": [
    "calculator(3,4,'%')"
   ]
  },
  {
   "cell_type": "code",
   "execution_count": 25,
   "metadata": {},
   "outputs": [],
   "source": [
    "def absulate_value(n):\n",
    "    if n < 0:\n",
    "        return -n\n",
    "    else: return n\n",
    "    "
   ]
  },
  {
   "cell_type": "code",
   "execution_count": 26,
   "metadata": {},
   "outputs": [
    {
     "data": {
      "text/plain": [
       "4"
      ]
     },
     "execution_count": 26,
     "metadata": {},
     "output_type": "execute_result"
    }
   ],
   "source": [
    "absulate_value(-4)"
   ]
  },
  {
   "cell_type": "markdown",
   "metadata": {},
   "source": [
    "```def print(abs.__doc__)```"
   ]
  },
  {
   "cell_type": "code",
   "execution_count": 5,
   "metadata": {},
   "outputs": [],
   "source": [
    "def texter(c, a, b):\n",
    "    print(f'{a} {b} {c} ')"
   ]
  },
  {
   "cell_type": "code",
   "execution_count": 8,
   "metadata": {},
   "outputs": [
    {
     "name": "stdout",
     "output_type": "stream",
     "text": [
      "i love you\n"
     ]
    }
   ],
   "source": [
    "def texter(c, a, b):\n",
    "    print(a, b, c)\n",
    "a = 'i'\n",
    "b = 'love'\n",
    "c = 'you'\n",
    "texter(c, a, b)"
   ]
  },
  {
   "cell_type": "code",
   "execution_count": 16,
   "metadata": {},
   "outputs": [],
   "source": [
    "def parrot(voltage, state='a stiff', action='voom', type='Norwegian Blue'):\n",
    "    print(\"-- This parrot wouldn't\", action)\n",
    "    print(\"-- if you put\", voltage, \"volts through it.\")\n",
    "    print(\"-- Lovely plumage, the\", type)\n",
    "    print(\"-- It's\", state, \"!\")"
   ]
  },
  {
   "cell_type": "code",
   "execution_count": 18,
   "metadata": {},
   "outputs": [
    {
     "name": "stdout",
     "output_type": "stream",
     "text": [
      "-- This parrot wouldn't VOOOOOM\n",
      "-- if you put 1000 volts through it.\n",
      "-- Lovely plumage, the Norwegian Blue\n",
      "-- It's KOOOM !\n"
     ]
    }
   ],
   "source": [
    "parrot(1000, 'KOOOM', 'VOOOOOM')"
   ]
  },
  {
   "cell_type": "code",
   "execution_count": 23,
   "metadata": {},
   "outputs": [],
   "source": [
    "def slicer(*args):\n",
    "    odd, even = [], []\n",
    "    for i in args:\n",
    "        if i%2:\n",
    "            odd.append(i)\n",
    "        else:\n",
    "            even.append(i)\n",
    "    return even , odd"
   ]
  },
  {
   "cell_type": "code",
   "execution_count": 24,
   "metadata": {},
   "outputs": [
    {
     "data": {
      "text/plain": [
       "([2, 4, 6, 8], [1, 3, 5, 7, 9])"
      ]
     },
     "execution_count": 24,
     "metadata": {},
     "output_type": "execute_result"
    }
   ],
   "source": [
    "slicer(1,2,3,4,5,6,7,8,9)"
   ]
  },
  {
   "cell_type": "code",
   "execution_count": null,
   "metadata": {},
   "outputs": [],
   "source": []
  },
  {
   "cell_type": "code",
   "execution_count": null,
   "metadata": {},
   "outputs": [],
   "source": []
  },
  {
   "cell_type": "code",
   "execution_count": 7,
   "metadata": {},
   "outputs": [],
   "source": [
    "def yan(*arg):\n",
    "    return next(arg)"
   ]
  },
  {
   "cell_type": "code",
   "execution_count": 8,
   "metadata": {},
   "outputs": [
    {
     "ename": "TypeError",
     "evalue": "'tuple' object is not an iterator",
     "output_type": "error",
     "traceback": [
      "\u001b[0;31m---------------------------------------------------------------------------\u001b[0m",
      "\u001b[0;31mTypeError\u001b[0m                                 Traceback (most recent call last)",
      "\u001b[0;32m<ipython-input-8-8e7e00d9c54a>\u001b[0m in \u001b[0;36m<module>\u001b[0;34m\u001b[0m\n\u001b[0;32m----> 1\u001b[0;31m \u001b[0myan\u001b[0m\u001b[0;34m(\u001b[0m\u001b[0;34m[\u001b[0m\u001b[0;36m5\u001b[0m\u001b[0;34m,\u001b[0m\u001b[0;36m6\u001b[0m\u001b[0;34m,\u001b[0m\u001b[0;36m8\u001b[0m\u001b[0;34m,\u001b[0m\u001b[0;36m4\u001b[0m\u001b[0;34m,\u001b[0m\u001b[0;36m5\u001b[0m\u001b[0;34m,\u001b[0m\u001b[0;36m8\u001b[0m\u001b[0;34m,\u001b[0m\u001b[0;36m5\u001b[0m\u001b[0;34m,\u001b[0m\u001b[0;36m6\u001b[0m\u001b[0;34m,\u001b[0m\u001b[0;36m2\u001b[0m\u001b[0;34m,\u001b[0m\u001b[0;36m4\u001b[0m\u001b[0;34m,\u001b[0m\u001b[0;36m5\u001b[0m\u001b[0;34m]\u001b[0m\u001b[0;34m)\u001b[0m\u001b[0;34m\u001b[0m\u001b[0;34m\u001b[0m\u001b[0m\n\u001b[0m",
      "\u001b[0;32m<ipython-input-7-64f2a3a3b134>\u001b[0m in \u001b[0;36myan\u001b[0;34m(*arg)\u001b[0m\n\u001b[1;32m      1\u001b[0m \u001b[0;32mdef\u001b[0m \u001b[0myan\u001b[0m\u001b[0;34m(\u001b[0m\u001b[0;34m*\u001b[0m\u001b[0marg\u001b[0m\u001b[0;34m)\u001b[0m\u001b[0;34m:\u001b[0m\u001b[0;34m\u001b[0m\u001b[0;34m\u001b[0m\u001b[0m\n\u001b[0;32m----> 2\u001b[0;31m     \u001b[0;32mreturn\u001b[0m \u001b[0mnext\u001b[0m\u001b[0;34m(\u001b[0m\u001b[0marg\u001b[0m\u001b[0;34m)\u001b[0m\u001b[0;34m\u001b[0m\u001b[0;34m\u001b[0m\u001b[0m\n\u001b[0m",
      "\u001b[0;31mTypeError\u001b[0m: 'tuple' object is not an iterator"
     ]
    }
   ],
   "source": [
    "yan([5,6,8,4,5,8,5,6,2,4,5])"
   ]
  },
  {
   "cell_type": "code",
   "execution_count": 4,
   "metadata": {},
   "outputs": [],
   "source": [
    "def brothers(bro1, bro2, bro3):\n",
    "    print('Here are the names of brothers :')\n",
    "    print(bro1, bro2, bro3, sep='\\n')"
   ]
  },
  {
   "cell_type": "code",
   "execution_count": 5,
   "metadata": {},
   "outputs": [
    {
     "name": "stdout",
     "output_type": "stream",
     "text": [
      "Here are the names of brothers :\n",
      "tom\n",
      "sue\n",
      "tim\n"
     ]
    }
   ],
   "source": [
    "brothers('tom', 'sue', 'tim')"
   ]
  },
  {
   "cell_type": "code",
   "execution_count": 11,
   "metadata": {},
   "outputs": [
    {
     "ename": "TypeError",
     "evalue": "'list' object is not an iterator",
     "output_type": "error",
     "traceback": [
      "\u001b[0;31m---------------------------------------------------------------------------\u001b[0m",
      "\u001b[0;31mTypeError\u001b[0m                                 Traceback (most recent call last)",
      "\u001b[0;32m<ipython-input-11-b3d6b235ab2a>\u001b[0m in \u001b[0;36m<module>\u001b[0;34m\u001b[0m\n\u001b[0;32m----> 1\u001b[0;31m \u001b[0mnext\u001b[0m\u001b[0;34m(\u001b[0m\u001b[0;34m[\u001b[0m\u001b[0;36m1\u001b[0m\u001b[0;34m,\u001b[0m\u001b[0;36m2\u001b[0m\u001b[0;34m,\u001b[0m\u001b[0;36m3\u001b[0m\u001b[0;34m]\u001b[0m\u001b[0;34m)\u001b[0m\u001b[0;34m\u001b[0m\u001b[0;34m\u001b[0m\u001b[0m\n\u001b[0m",
      "\u001b[0;31mTypeError\u001b[0m: 'list' object is not an iterator"
     ]
    }
   ],
   "source": [
    "next([1,2,3])"
   ]
  },
  {
   "cell_type": "code",
   "execution_count": 45,
   "metadata": {},
   "outputs": [],
   "source": [
    "def filt(s):\n",
    "    return filter(lambda a: a in ('a', 'e', 'i', 'o', 'u'), s)\n",
    "    "
   ]
  },
  {
   "cell_type": "code",
   "execution_count": 46,
   "metadata": {},
   "outputs": [
    {
     "data": {
      "text/plain": [
       "['a', 'u', 'u', 'a']"
      ]
     },
     "execution_count": 46,
     "metadata": {},
     "output_type": "execute_result"
    }
   ],
   "source": [
    "a = filt('jkasdkuusjvba')\n",
    "list(a)"
   ]
  },
  {
   "cell_type": "code",
   "execution_count": 35,
   "metadata": {},
   "outputs": [],
   "source": [
    "def voweler(s):\n",
    "    for i in s:\n",
    "        if i in ('a', 'e', 'i', 'o', 'u'):\n",
    "            return i\n",
    "    "
   ]
  },
  {
   "cell_type": "code",
   "execution_count": 36,
   "metadata": {},
   "outputs": [],
   "source": [
    "sentence = 'bir gun gelecek ve'"
   ]
  },
  {
   "cell_type": "code",
   "execution_count": 40,
   "metadata": {},
   "outputs": [
    {
     "data": {
      "text/plain": [
       "['i', 'u', 'e', 'e', 'e', 'e']"
      ]
     },
     "execution_count": 40,
     "metadata": {},
     "output_type": "execute_result"
    }
   ],
   "source": [
    "filt_vow = filter(voweler, sentence)\n",
    "list(filt_vow)"
   ]
  },
  {
   "cell_type": "code",
   "execution_count": null,
   "metadata": {},
   "outputs": [],
   "source": [
    "def merger(a,b,c,d):\n",
    "    print(f'For me, {a} {d} and {c} {b} are geniuses')\n",
    "genius = '' "
   ]
  },
  {
   "cell_type": "code",
   "execution_count": 52,
   "metadata": {},
   "outputs": [],
   "source": [
    "dict_couple = {\"bride\" : [\"mary\", \"bella\", \"linda\", \"emma\"],\n",
    "               \"groom\" : [\"jack\", \"robert\", \"eric\", \"adam\"]}"
   ]
  },
  {
   "cell_type": "code",
   "execution_count": 55,
   "metadata": {},
   "outputs": [
    {
     "data": {
      "text/plain": [
       "[('mary', 'jack'), ('bella', 'robert'), ('linda', 'eric'), ('emma', 'adam')]"
      ]
     },
     "execution_count": 55,
     "metadata": {},
     "output_type": "execute_result"
    }
   ],
   "source": [
    "def muruvet(bride, groom):\n",
    "    return [i for i in zip(dict_couple['bride'], dict_couple['groom'])]\n",
    "muruvet(**dict_couple)"
   ]
  },
  {
   "cell_type": "code",
   "execution_count": 48,
   "metadata": {},
   "outputs": [],
   "source": [
    "friends  = {'ali': 54, 'veli': 67, 'deli':34}"
   ]
  },
  {
   "cell_type": "code",
   "execution_count": 49,
   "metadata": {},
   "outputs": [],
   "source": [
    "def meaner(a):\n",
    "    avg = 0\n",
    "    for i in a.values():\n",
    "        avg+=i\n",
    "    return (f'average is {avg/3}')\n",
    "    \n",
    "    "
   ]
  },
  {
   "cell_type": "code",
   "execution_count": 50,
   "metadata": {},
   "outputs": [
    {
     "ename": "TypeError",
     "evalue": "meaner() got an unexpected keyword argument 'ali'",
     "output_type": "error",
     "traceback": [
      "\u001b[0;31m---------------------------------------------------------------------------\u001b[0m",
      "\u001b[0;31mTypeError\u001b[0m                                 Traceback (most recent call last)",
      "\u001b[0;32m<ipython-input-50-024f65c5b0d9>\u001b[0m in \u001b[0;36m<module>\u001b[0;34m\u001b[0m\n\u001b[0;32m----> 1\u001b[0;31m \u001b[0mmeaner\u001b[0m\u001b[0;34m(\u001b[0m\u001b[0;34m**\u001b[0m\u001b[0mfriends\u001b[0m\u001b[0;34m)\u001b[0m\u001b[0;34m\u001b[0m\u001b[0;34m\u001b[0m\u001b[0m\n\u001b[0m",
      "\u001b[0;31mTypeError\u001b[0m: meaner() got an unexpected keyword argument 'ali'"
     ]
    }
   ],
   "source": [
    "meaner(**friends)"
   ]
  },
  {
   "cell_type": "code",
   "execution_count": null,
   "metadata": {},
   "outputs": [],
   "source": []
  },
  {
   "cell_type": "code",
   "execution_count": 7,
   "metadata": {},
   "outputs": [
    {
     "data": {
      "text/plain": [
       "'even'"
      ]
     },
     "execution_count": 7,
     "metadata": {},
     "output_type": "execute_result"
    }
   ],
   "source": [
    "(lambda x : 'odd' if x%2 else 'even')(6)"
   ]
  },
  {
   "cell_type": "code",
   "execution_count": 8,
   "metadata": {},
   "outputs": [
    {
     "data": {
      "text/plain": [
       "'odd'"
      ]
     },
     "execution_count": 8,
     "metadata": {},
     "output_type": "execute_result"
    }
   ],
   "source": [
    "evod = lambda x : 'odd' if x%2 else 'even'\n",
    "evod(5)"
   ]
  },
  {
   "cell_type": "code",
   "execution_count": 10,
   "metadata": {},
   "outputs": [
    {
     "data": {
      "text/plain": [
       "'namles'"
      ]
     },
     "execution_count": 10,
     "metadata": {},
     "output_type": "execute_result"
    }
   ],
   "source": [
    "(lambda x : x[::-1])('selman')"
   ]
  },
  {
   "cell_type": "code",
   "execution_count": 18,
   "metadata": {},
   "outputs": [
    {
     "name": "stdout",
     "output_type": "stream",
     "text": [
      "1 : odd\n",
      "2 : even\n",
      "3 : odd\n",
      "4 : even\n",
      "5 : odd\n",
      "6 : even\n"
     ]
    }
   ],
   "source": [
    "for i in [1,2,3,4,5,6]:\n",
    "  print(i,':', (lambda i: 'odd' if i%2!=0 else 'even')(i))"
   ]
  },
  {
   "cell_type": "code",
   "execution_count": 22,
   "metadata": {},
   "outputs": [
    {
     "data": {
      "text/plain": [
       "['odd', 'even', 'odd', 'even', 'odd', 'even']"
      ]
     },
     "execution_count": 22,
     "metadata": {},
     "output_type": "execute_result"
    }
   ],
   "source": [
    "list(map(lambda i: 'odd' if i%2!=0 else 'even', [1,2,3,4,5,6]))"
   ]
  },
  {
   "cell_type": "code",
   "execution_count": 23,
   "metadata": {},
   "outputs": [
    {
     "data": {
      "text/plain": [
       "<map at 0x7fdcdcaaa6d0>"
      ]
     },
     "execution_count": 23,
     "metadata": {},
     "output_type": "execute_result"
    }
   ],
   "source": [
    "map(lambda i: 'odd' if i%2!=0 else 'even', [1,2,3,4,5,6])"
   ]
  },
  {
   "cell_type": "code",
   "execution_count": 26,
   "metadata": {},
   "outputs": [
    {
     "data": {
      "text/plain": [
       "[1, 4, 9, 16, 25]"
      ]
     },
     "execution_count": 26,
     "metadata": {},
     "output_type": "execute_result"
    }
   ],
   "source": [
    "def sq(a):\n",
    "    return a*a\n",
    "list(map(sq, [1, 2, 3, 4, 5]))"
   ]
  },
  {
   "cell_type": "code",
   "execution_count": 31,
   "metadata": {},
   "outputs": [],
   "source": [
    "letter1 = ['o', 's', 't', 't']\n",
    "letter2 = ['n', 'i', 'w']\n",
    "letter3 = ['e', 'x', 'n']\n",
    "numbers = map(lambda x, y, z: x+y+z, letter1, letter2, letter3)"
   ]
  },
  {
   "cell_type": "code",
   "execution_count": 32,
   "metadata": {},
   "outputs": [
    {
     "data": {
      "text/plain": [
       "['one', 'six', 'twn']"
      ]
     },
     "execution_count": 32,
     "metadata": {},
     "output_type": "execute_result"
    }
   ],
   "source": [
    "list(numbers)"
   ]
  },
  {
   "cell_type": "code",
   "execution_count": 33,
   "metadata": {},
   "outputs": [
    {
     "data": {
      "text/plain": [
       "[6.0, 6.0, 6.0, 6.0]"
      ]
     },
     "execution_count": 33,
     "metadata": {},
     "output_type": "execute_result"
    }
   ],
   "source": [
    "num1 = [9,6,7,4]\n",
    "num2 = [3,6,5,8]\n",
    "list(map(lambda a, b : (a+b)/2, num1, num2 ))"
   ]
  },
  {
   "cell_type": "code",
   "execution_count": 2,
   "metadata": {},
   "outputs": [
    {
     "data": {
      "text/plain": [
       "[3, 4, 4, 17, 34]"
      ]
     },
     "execution_count": 2,
     "metadata": {},
     "output_type": "execute_result"
    }
   ],
   "source": [
    "words = ['ali', 'veli', 'deli', 'kjsfdvskjnvsdkjvn', 'fdvb fvdjkhabvfkjsbv   fkdvndkjlnv']\n",
    "list(map(lambda x : len(x), words))"
   ]
  },
  {
   "cell_type": "code",
   "execution_count": 3,
   "metadata": {},
   "outputs": [
    {
     "data": {
      "text/plain": [
       "[3, 4, 4, 17, 34]"
      ]
     },
     "execution_count": 3,
     "metadata": {},
     "output_type": "execute_result"
    }
   ],
   "source": [
    "list(map(len, words))"
   ]
  },
  {
   "cell_type": "code",
   "execution_count": 4,
   "metadata": {
    "scrolled": true
   },
   "outputs": [
    {
     "data": {
      "text/plain": [
       "[['a', 'i', 'l'],\n",
       " ['e', 'i', 'l', 'v'],\n",
       " ['d', 'e', 'i', 'l'],\n",
       " ['d',\n",
       "  'd',\n",
       "  'f',\n",
       "  'j',\n",
       "  'j',\n",
       "  'j',\n",
       "  'k',\n",
       "  'k',\n",
       "  'k',\n",
       "  'n',\n",
       "  'n',\n",
       "  's',\n",
       "  's',\n",
       "  's',\n",
       "  'v',\n",
       "  'v',\n",
       "  'v'],\n",
       " [' ',\n",
       "  ' ',\n",
       "  ' ',\n",
       "  ' ',\n",
       "  'a',\n",
       "  'b',\n",
       "  'b',\n",
       "  'b',\n",
       "  'd',\n",
       "  'd',\n",
       "  'd',\n",
       "  'd',\n",
       "  'f',\n",
       "  'f',\n",
       "  'f',\n",
       "  'f',\n",
       "  'h',\n",
       "  'j',\n",
       "  'j',\n",
       "  'j',\n",
       "  'k',\n",
       "  'k',\n",
       "  'k',\n",
       "  'k',\n",
       "  'l',\n",
       "  'n',\n",
       "  'n',\n",
       "  's',\n",
       "  'v',\n",
       "  'v',\n",
       "  'v',\n",
       "  'v',\n",
       "  'v',\n",
       "  'v']]"
      ]
     },
     "execution_count": 4,
     "metadata": {},
     "output_type": "execute_result"
    }
   ],
   "source": [
    "list(map(sorted, words))"
   ]
  },
  {
   "cell_type": "code",
   "execution_count": 37,
   "metadata": {},
   "outputs": [
    {
     "name": "stdout",
     "output_type": "stream",
     "text": [
      "[6.0, 6.0, 6.0, 6.0]\n"
     ]
    }
   ],
   "source": [
    "nums1 = [9,6,7,4]\n",
    "nums2 = [3,6,5,8]\n",
    "\n",
    "average = map(lambda x,y : (x+y)/2, nums1, nums2)\n",
    "\n",
    "print(list(average))"
   ]
  },
  {
   "cell_type": "code",
   "execution_count": 48,
   "metadata": {},
   "outputs": [
    {
     "data": {
      "text/plain": [
       "['swim', 'me', 'kiwi']"
      ]
     },
     "execution_count": 48,
     "metadata": {},
     "output_type": "execute_result"
    }
   ],
   "source": [
    "words = [\"apple\", \"swim\", \"clock\", \"me\", \"kiwi\", \"banana\"]\n",
    "list(filter(lambda x : len(x)<5 , words))"
   ]
  },
  {
   "cell_type": "code",
   "execution_count": 50,
   "metadata": {},
   "outputs": [
    {
     "data": {
      "text/plain": [
       "['a', 'e', 'i']"
      ]
     },
     "execution_count": 50,
     "metadata": {},
     "output_type": "execute_result"
    }
   ],
   "source": [
    "vowels = ['a', 'e', 'i', 'u', 'o']\n",
    "first_ten = ['a', 'b', 'c', 'd', 'e', 'f', 'g', 'h', 'i', 'j']\n",
    "list(filter(lambda a : a in vowels, first_ten))"
   ]
  },
  {
   "cell_type": "code",
   "execution_count": 55,
   "metadata": {},
   "outputs": [
    {
     "name": "stdout",
     "output_type": "stream",
     "text": [
      "[0, -10]\n"
     ]
    }
   ],
   "source": [
    "commends = ['r 20', 'r 30', 'l 50', 'd 20', 'u 10']\n",
    "x ,y= 0, 0\n",
    "for i in commends:\n",
    "    if i[0] in ('r', 'l'):\n",
    "        if i[0] == 'r':\n",
    "            x+=int(i[2:])\n",
    "        else:\n",
    "            x-=int(i[2:])\n",
    "    else:\n",
    "        if i[0] == 'u':\n",
    "            y+=int(i[2:])\n",
    "        else:\n",
    "            y-=int(i[2:])\n",
    "print([x, y])         "
   ]
  },
  {
   "cell_type": "code",
   "execution_count": 57,
   "metadata": {},
   "outputs": [
    {
     "data": {
      "text/plain": [
       "[0, -10]"
      ]
     },
     "execution_count": 57,
     "metadata": {},
     "output_type": "execute_result"
    }
   ],
   "source": [
    "x = y = 0\n",
    "C = ['r 20', 'r 30', 'l 50', 'd 20', 'u 10']\n",
    "for i in range(len(C)) :\n",
    "    if C[i].startswith(\"r\") : x = x + int(C[i].split()[1])\n",
    "    elif C[i].startswith(\"l\") : x = x - int(C[i].split()[1])\n",
    "    elif C[i].startswith(\"u\") : y = y + int(C[i].split()[1])\n",
    "    elif C[i].startswith(\"d\") : y = y - int(C[i].split()[1])\n",
    "        \n",
    "[x, y]"
   ]
  },
  {
   "cell_type": "code",
   "execution_count": 59,
   "metadata": {},
   "outputs": [
    {
     "data": {
      "text/plain": [
       "[0, 20]"
      ]
     },
     "execution_count": 59,
     "metadata": {},
     "output_type": "execute_result"
    }
   ],
   "source": [
    "commands = [\"right 20\", \"right 30\", \"left 50\", \"up 10\" \"down 20\"]\n",
    "\n",
    "x = y = 0\n",
    "\n",
    "for i in range(len(commands)):\n",
    "        if commands[i].startswith(\"r\") : x += int(commands[i].split()[-1])\n",
    "        elif commands[i].startswith(\"l\") : x -= int(commands[i].split()[-1])\n",
    "        elif commands[i].startswith(\"u\") : y += int(commands[i].split()[-1])\n",
    "        elif commands[i].startswith(\"d\") : y -= int(commands[i].split()[-1])\n",
    "[x,y]"
   ]
  },
  {
   "cell_type": "code",
   "execution_count": 5,
   "metadata": {},
   "outputs": [],
   "source": [
    "def rep(n):\n",
    "    return lambda x: x*n"
   ]
  },
  {
   "cell_type": "code",
   "execution_count": 6,
   "metadata": {},
   "outputs": [],
   "source": [
    "repeat_5 = rep(5)"
   ]
  },
  {
   "cell_type": "code",
   "execution_count": 7,
   "metadata": {},
   "outputs": [
    {
     "data": {
      "text/plain": [
       "'kockockockockoc'"
      ]
     },
     "execution_count": 7,
     "metadata": {},
     "output_type": "execute_result"
    }
   ],
   "source": [
    "repeat_5('koc')"
   ]
  },
  {
   "cell_type": "code",
   "execution_count": 8,
   "metadata": {},
   "outputs": [],
   "source": [
    "repeat_2 = rep(2)"
   ]
  },
  {
   "cell_type": "code",
   "execution_count": 9,
   "metadata": {},
   "outputs": [
    {
     "data": {
      "text/plain": [
       "'selman...selman...'"
      ]
     },
     "execution_count": 9,
     "metadata": {},
     "output_type": "execute_result"
    }
   ],
   "source": [
    "repeat_2('selman...')"
   ]
  },
  {
   "cell_type": "code",
   "execution_count": 1,
   "metadata": {},
   "outputs": [],
   "source": [
    "def functioner():\n",
    "    return 'hello'\n",
    "smile = functioner()"
   ]
  },
  {
   "cell_type": "code",
   "execution_count": 2,
   "metadata": {},
   "outputs": [
    {
     "ename": "TypeError",
     "evalue": "'str' object is not callable",
     "output_type": "error",
     "traceback": [
      "\u001b[0;31m---------------------------------------------------------------------------\u001b[0m",
      "\u001b[0;31mTypeError\u001b[0m                                 Traceback (most recent call last)",
      "\u001b[0;32m<ipython-input-2-b31793c02fb5>\u001b[0m in \u001b[0;36m<module>\u001b[0;34m\u001b[0m\n\u001b[0;32m----> 1\u001b[0;31m \u001b[0msmile\u001b[0m\u001b[0;34m(\u001b[0m\u001b[0;34m':)'\u001b[0m\u001b[0;34m)\u001b[0m\u001b[0;34m\u001b[0m\u001b[0;34m\u001b[0m\u001b[0m\n\u001b[0m",
      "\u001b[0;31mTypeError\u001b[0m: 'str' object is not callable"
     ]
    }
   ],
   "source": [
    "smile(':)')"
   ]
  },
  {
   "cell_type": "code",
   "execution_count": 8,
   "metadata": {},
   "outputs": [
    {
     "data": {
      "text/plain": [
       "2"
      ]
     },
     "execution_count": 8,
     "metadata": {},
     "output_type": "execute_result"
    }
   ],
   "source": [
    "def equal(*args):\n",
    "    return lambda x : max(list(args), key = list(args).count)\n",
    "res = equal(1,2,3,2)\n",
    "res(3)"
   ]
  },
  {
   "cell_type": "code",
   "execution_count": 4,
   "metadata": {},
   "outputs": [],
   "source": [
    "def equal(*args):\n",
    "    return lambda args: [args].count(max([args], key= [args].count))"
   ]
  },
  {
   "cell_type": "code",
   "execution_count": 5,
   "metadata": {},
   "outputs": [],
   "source": [
    "res = equal(1,2,3,4,4)"
   ]
  },
  {
   "cell_type": "code",
   "execution_count": 6,
   "metadata": {},
   "outputs": [
    {
     "data": {
      "text/plain": [
       "1"
      ]
     },
     "execution_count": 6,
     "metadata": {},
     "output_type": "execute_result"
    }
   ],
   "source": [
    "res(4)"
   ]
  },
  {
   "cell_type": "code",
   "execution_count": 31,
   "metadata": {},
   "outputs": [
    {
     "name": "stdout",
     "output_type": "stream",
     "text": [
      "clarusway\n"
     ]
    }
   ],
   "source": [
    "def func_gen(f):\n",
    "    return lambda x : f(x)\n",
    "myPrint = func_gen(print)\n",
    "myPrint('clarusway')"
   ]
  },
  {
   "cell_type": "code",
   "execution_count": null,
   "metadata": {},
   "outputs": [],
   "source": []
  },
  {
   "cell_type": "code",
   "execution_count": 28,
   "metadata": {},
   "outputs": [],
   "source": [
    "myPrint = func_gen(print)"
   ]
  },
  {
   "cell_type": "code",
   "execution_count": 29,
   "metadata": {},
   "outputs": [
    {
     "name": "stdout",
     "output_type": "stream",
     "text": [
      "koc\n"
     ]
    }
   ],
   "source": [
    "myPrint('koc')"
   ]
  },
  {
   "cell_type": "code",
   "execution_count": 1,
   "metadata": {},
   "outputs": [],
   "source": [
    "import datetime"
   ]
  },
  {
   "cell_type": "code",
   "execution_count": 2,
   "metadata": {},
   "outputs": [
    {
     "name": "stdout",
     "output_type": "stream",
     "text": [
      "2021-08-18 23:09:31.841929\n"
     ]
    }
   ],
   "source": [
    "print(datetime.datetime.now())"
   ]
  },
  {
   "cell_type": "code",
   "execution_count": 3,
   "metadata": {},
   "outputs": [
    {
     "data": {
      "text/plain": [
       "datetime.date(2021, 8, 18)"
      ]
     },
     "execution_count": 3,
     "metadata": {},
     "output_type": "execute_result"
    }
   ],
   "source": [
    "datetime.date.today()"
   ]
  },
  {
   "cell_type": "code",
   "execution_count": 4,
   "metadata": {},
   "outputs": [],
   "source": [
    "b = datetime.date(571, 4, 22)"
   ]
  },
  {
   "cell_type": "code",
   "execution_count": 5,
   "metadata": {},
   "outputs": [],
   "source": [
    "o = datetime.date(632, 6, 8)"
   ]
  },
  {
   "cell_type": "code",
   "execution_count": 6,
   "metadata": {},
   "outputs": [
    {
     "data": {
      "text/plain": [
       "datetime.timedelta(days=22327)"
      ]
     },
     "execution_count": 6,
     "metadata": {},
     "output_type": "execute_result"
    }
   ],
   "source": [
    "o-b "
   ]
  },
  {
   "cell_type": "code",
   "execution_count": null,
   "metadata": {},
   "outputs": [],
   "source": []
  },
  {
   "cell_type": "code",
   "execution_count": 1,
   "metadata": {},
   "outputs": [
    {
     "data": {
      "text/plain": [
       "'/Users/koc/Desktop/git_hub/python_ex'"
      ]
     },
     "execution_count": 1,
     "metadata": {},
     "output_type": "execute_result"
    }
   ],
   "source": [
    "pwd"
   ]
  },
  {
   "cell_type": "code",
   "execution_count": 8,
   "metadata": {},
   "outputs": [],
   "source": [
    "from upper_package.inner_pac1 import module_1, module_2"
   ]
  },
  {
   "cell_type": "code",
   "execution_count": 9,
   "metadata": {},
   "outputs": [
    {
     "name": "stdout",
     "output_type": "stream",
     "text": [
      "Help on module upper_package.inner_pac1.module_1 in upper_package.inner_pac1:\n",
      "\n",
      "NAME\n",
      "    upper_package.inner_pac1.module_1 - This is module 1. Welcome!\n",
      "\n",
      "FUNCTIONS\n",
      "    addition(a, b)\n",
      "    \n",
      "    multi(x, y)\n",
      "\n",
      "FILE\n",
      "    /Users/koc/Desktop/git_hub/python_ex/upper_package/inner_pac1/module_1.py\n",
      "\n",
      "\n"
     ]
    }
   ],
   "source": [
    "help(module_1)"
   ]
  },
  {
   "cell_type": "code",
   "execution_count": 10,
   "metadata": {
    "scrolled": false
   },
   "outputs": [
    {
     "data": {
      "text/plain": [
       "['__builtins__',\n",
       " '__cached__',\n",
       " '__doc__',\n",
       " '__file__',\n",
       " '__loader__',\n",
       " '__name__',\n",
       " '__package__',\n",
       " '__spec__',\n",
       " 'addition',\n",
       " 'multi']"
      ]
     },
     "execution_count": 10,
     "metadata": {},
     "output_type": "execute_result"
    }
   ],
   "source": [
    "dir(module_1)"
   ]
  },
  {
   "cell_type": "code",
   "execution_count": 11,
   "metadata": {},
   "outputs": [
    {
     "data": {
      "text/plain": [
       "['__builtins__',\n",
       " '__cached__',\n",
       " '__doc__',\n",
       " '__file__',\n",
       " '__loader__',\n",
       " '__name__',\n",
       " '__package__',\n",
       " '__spec__',\n",
       " 'divide',\n",
       " 'hello']"
      ]
     },
     "execution_count": 11,
     "metadata": {},
     "output_type": "execute_result"
    }
   ],
   "source": [
    "dir(module_2)"
   ]
  },
  {
   "cell_type": "code",
   "execution_count": 7,
   "metadata": {},
   "outputs": [
    {
     "name": "stdout",
     "output_type": "stream",
     "text": [
      "\n",
      "This is module 1. Welcome!\n",
      "\n"
     ]
    }
   ],
   "source": [
    "print(module_1.__doc__)"
   ]
  },
  {
   "cell_type": "code",
   "execution_count": 12,
   "metadata": {},
   "outputs": [],
   "source": [
    "from upper_package.inner_pac1.module_1 import addition, multi"
   ]
  },
  {
   "cell_type": "code",
   "execution_count": 13,
   "metadata": {},
   "outputs": [
    {
     "data": {
      "text/plain": [
       "'sdbhjkcvdkvlnkl'"
      ]
     },
     "execution_count": 13,
     "metadata": {},
     "output_type": "execute_result"
    }
   ],
   "source": [
    "addition('sdbhjkcv', 'dkvlnkl')"
   ]
  },
  {
   "cell_type": "code",
   "execution_count": 14,
   "metadata": {},
   "outputs": [
    {
     "data": {
      "text/plain": [
       "35"
      ]
     },
     "execution_count": 14,
     "metadata": {},
     "output_type": "execute_result"
    }
   ],
   "source": [
    "multi(5,7)"
   ]
  },
  {
   "cell_type": "code",
   "execution_count": 15,
   "metadata": {},
   "outputs": [
    {
     "name": "stdout",
     "output_type": "stream",
     "text": [
      "pip 21.0.1 from /opt/anaconda3/lib/python3.8/site-packages/pip (python 3.8)\n",
      "Note: you may need to restart the kernel to use updated packages.\n"
     ]
    }
   ],
   "source": [
    "pip --version"
   ]
  },
  {
   "cell_type": "code",
   "execution_count": 16,
   "metadata": {
    "collapsed": true
   },
   "outputs": [
    {
     "name": "stdout",
     "output_type": "stream",
     "text": [
      "Package                            Version\r\n",
      "---------------------------------- -------------------\r\n",
      "alabaster                          0.7.12\r\n",
      "anaconda-client                    1.7.2\r\n",
      "anaconda-navigator                 2.0.3\r\n",
      "anaconda-project                   0.9.1\r\n",
      "anyio                              2.2.0\r\n",
      "appdirs                            1.4.4\r\n",
      "applaunchservices                  0.2.1\r\n",
      "appnope                            0.1.2\r\n",
      "appscript                          1.1.2\r\n",
      "argh                               0.26.2\r\n",
      "argon2-cffi                        20.1.0\r\n",
      "asn1crypto                         1.4.0\r\n",
      "astroid                            2.5\r\n",
      "astropy                            4.2.1\r\n",
      "async-generator                    1.10\r\n",
      "atomicwrites                       1.4.0\r\n",
      "attrs                              20.3.0\r\n",
      "autopep8                           1.5.6\r\n",
      "Babel                              2.9.0\r\n",
      "backcall                           0.2.0\r\n",
      "backports.functools-lru-cache      1.6.4\r\n",
      "backports.shutil-get-terminal-size 1.0.0\r\n",
      "backports.tempfile                 1.0\r\n",
      "backports.weakref                  1.0.post1\r\n",
      "beautifulsoup4                     4.9.3\r\n",
      "bitarray                           1.9.2\r\n",
      "bkcharts                           0.2\r\n",
      "black                              19.10b0\r\n",
      "bleach                             3.3.0\r\n",
      "bokeh                              2.3.2\r\n",
      "boto                               2.49.0\r\n",
      "Bottleneck                         1.3.2\r\n",
      "brotlipy                           0.7.0\r\n",
      "certifi                            2020.12.5\r\n",
      "cffi                               1.14.5\r\n",
      "chardet                            4.0.0\r\n",
      "click                              7.1.2\r\n",
      "cloudpickle                        1.6.0\r\n",
      "clyent                             1.2.2\r\n",
      "colorama                           0.4.4\r\n",
      "conda                              4.10.1\r\n",
      "conda-build                        3.21.4\r\n",
      "conda-content-trust                0+unknown\r\n",
      "conda-package-handling             1.7.3\r\n",
      "conda-repo-cli                     1.0.4\r\n",
      "conda-token                        0.3.0\r\n",
      "conda-verify                       3.4.2\r\n",
      "contextlib2                        0.6.0.post1\r\n",
      "cryptography                       3.4.7\r\n",
      "cycler                             0.10.0\r\n",
      "Cython                             0.29.23\r\n",
      "cytoolz                            0.11.0\r\n",
      "dask                               2021.4.0\r\n",
      "decorator                          5.0.6\r\n",
      "defusedxml                         0.7.1\r\n",
      "diff-match-patch                   20200713\r\n",
      "distributed                        2021.4.0\r\n",
      "docutils                           0.17\r\n",
      "entrypoints                        0.3\r\n",
      "et-xmlfile                         1.0.1\r\n",
      "fastcache                          1.1.0\r\n",
      "filelock                           3.0.12\r\n",
      "flake8                             3.9.0\r\n",
      "Flask                              1.1.2\r\n",
      "fsspec                             0.9.0\r\n",
      "future                             0.18.2\r\n",
      "gevent                             21.1.2\r\n",
      "glob2                              0.7\r\n",
      "gmpy2                              2.0.8\r\n",
      "greenlet                           1.0.0\r\n",
      "h5py                               2.10.0\r\n",
      "HeapDict                           1.0.1\r\n",
      "hijri-converter                    2.1.3\r\n",
      "html5lib                           1.1\r\n",
      "idna                               2.10\r\n",
      "imageio                            2.9.0\r\n",
      "imagesize                          1.2.0\r\n",
      "importlib-metadata                 3.10.0\r\n",
      "iniconfig                          1.1.1\r\n",
      "intervaltree                       3.1.0\r\n",
      "ipykernel                          5.3.4\r\n",
      "ipython                            7.22.0\r\n",
      "ipython-genutils                   0.2.0\r\n",
      "ipywidgets                         7.6.3\r\n",
      "isort                              5.8.0\r\n",
      "itsdangerous                       1.1.0\r\n",
      "jdcal                              1.4.1\r\n",
      "jedi                               0.17.2\r\n",
      "Jinja2                             2.11.3\r\n",
      "joblib                             1.0.1\r\n",
      "json5                              0.9.5\r\n",
      "jsonschema                         3.2.0\r\n",
      "jupyter                            1.0.0\r\n",
      "jupyter-client                     6.1.12\r\n",
      "jupyter-console                    6.4.0\r\n",
      "jupyter-core                       4.7.1\r\n",
      "jupyter-packaging                  0.7.12\r\n",
      "jupyter-server                     1.4.1\r\n",
      "jupyterlab                         3.0.14\r\n",
      "jupyterlab-pygments                0.1.2\r\n",
      "jupyterlab-server                  2.4.0\r\n",
      "jupyterlab-widgets                 1.0.0\r\n",
      "keyring                            22.3.0\r\n",
      "kiwisolver                         1.3.1\r\n",
      "lazy-object-proxy                  1.6.0\r\n",
      "libarchive-c                       2.9\r\n",
      "llvmlite                           0.36.0\r\n",
      "locket                             0.2.1\r\n",
      "lxml                               4.6.3\r\n",
      "MarkupSafe                         1.1.1\r\n",
      "matplotlib                         3.3.4\r\n",
      "mccabe                             0.6.1\r\n",
      "mistune                            0.8.4\r\n",
      "mkl-fft                            1.3.0\r\n",
      "mkl-random                         1.2.1\r\n",
      "mkl-service                        2.3.0\r\n",
      "mock                               4.0.3\r\n",
      "more-itertools                     8.7.0\r\n",
      "mpmath                             1.2.1\r\n",
      "msgpack                            1.0.2\r\n",
      "multipledispatch                   0.6.0\r\n",
      "mypy-extensions                    0.4.3\r\n",
      "navigator-updater                  0.2.1\r\n",
      "nbclassic                          0.2.6\r\n",
      "nbclient                           0.5.3\r\n",
      "nbconvert                          6.0.7\r\n",
      "nbformat                           5.1.3\r\n",
      "nest-asyncio                       1.5.1\r\n",
      "networkx                           2.5\r\n",
      "nltk                               3.6.1\r\n",
      "nose                               1.3.7\r\n",
      "notebook                           6.3.0\r\n",
      "numba                              0.53.1\r\n",
      "numexpr                            2.7.3\r\n",
      "numpy                              1.20.1\r\n",
      "numpydoc                           1.1.0\r\n",
      "olefile                            0.46\r\n",
      "openpyxl                           3.0.7\r\n",
      "packaging                          20.9\r\n",
      "pandas                             1.2.4\r\n",
      "pandocfilters                      1.4.3\r\n",
      "parso                              0.7.0\r\n",
      "partd                              1.2.0\r\n",
      "path                               15.1.2\r\n",
      "pathlib2                           2.3.5\r\n",
      "pathspec                           0.7.0\r\n",
      "patsy                              0.5.1\r\n",
      "pep8                               1.7.1\r\n",
      "pexpect                            4.8.0\r\n",
      "pickleshare                        0.7.5\r\n",
      "Pillow                             8.2.0\r\n",
      "pip                                21.0.1\r\n",
      "pkginfo                            1.7.0\r\n",
      "pluggy                             0.13.1\r\n",
      "ply                                3.11\r\n",
      "prometheus-client                  0.10.1\r\n",
      "prompt-toolkit                     3.0.17\r\n",
      "psutil                             5.8.0\r\n",
      "ptyprocess                         0.7.0\r\n",
      "py                                 1.10.0\r\n",
      "pycodestyle                        2.6.0\r\n",
      "pycosat                            0.6.3\r\n",
      "pycparser                          2.20\r\n",
      "pycurl                             7.43.0.6\r\n",
      "pydocstyle                         6.0.0\r\n",
      "pyerfa                             1.7.3\r\n",
      "pyflakes                           2.2.0\r\n",
      "Pygments                           2.8.1\r\n",
      "pylint                             2.7.4\r\n",
      "pyls-black                         0.4.6\r\n",
      "pyls-spyder                        0.3.2\r\n",
      "pyodbc                             4.0.0-unsupported\r\n",
      "pyOpenSSL                          20.0.1\r\n",
      "pyparsing                          2.4.7\r\n",
      "pyrsistent                         0.17.3\r\n",
      "PySocks                            1.7.1\r\n",
      "pytest                             6.2.3\r\n",
      "python-dateutil                    2.8.1\r\n",
      "python-jsonrpc-server              0.4.0\r\n",
      "python-language-server             0.36.2\r\n",
      "pytz                               2021.1\r\n",
      "PyWavelets                         1.1.1\r\n",
      "PyYAML                             5.4.1\r\n",
      "pyzmq                              20.0.0\r\n",
      "QDarkStyle                         2.8.1\r\n",
      "QtAwesome                          1.0.2\r\n",
      "qtconsole                          5.0.3\r\n",
      "QtPy                               1.9.0\r\n",
      "regex                              2021.4.4\r\n",
      "requests                           2.25.1\r\n",
      "rope                               0.18.0\r\n",
      "Rtree                              0.9.7\r\n",
      "ruamel-yaml-conda                  0.15.100\r\n",
      "scikit-image                       0.18.1\r\n",
      "scikit-learn                       0.24.1\r\n",
      "scipy                              1.6.2\r\n",
      "seaborn                            0.11.1\r\n",
      "Send2Trash                         1.5.0\r\n",
      "setuptools                         52.0.0.post20210125\r\n",
      "simplegeneric                      0.8.1\r\n",
      "singledispatch                     0.0.0\r\n",
      "six                                1.15.0\r\n",
      "sniffio                            1.2.0\r\n",
      "snowballstemmer                    2.1.0\r\n",
      "sortedcollections                  2.1.0\r\n",
      "sortedcontainers                   2.3.0\r\n",
      "soupsieve                          2.2.1\r\n",
      "Sphinx                             4.0.1\r\n",
      "sphinxcontrib-applehelp            1.0.2\r\n",
      "sphinxcontrib-devhelp              1.0.2\r\n",
      "sphinxcontrib-htmlhelp             1.0.3\r\n",
      "sphinxcontrib-jsmath               1.0.1\r\n",
      "sphinxcontrib-qthelp               1.0.3\r\n",
      "sphinxcontrib-serializinghtml      1.1.4\r\n",
      "sphinxcontrib-websupport           1.2.4\r\n",
      "spyder                             4.2.5\r\n",
      "spyder-kernels                     1.10.2\r\n",
      "SQLAlchemy                         1.4.7\r\n",
      "statsmodels                        0.12.2\r\n",
      "sympy                              1.8\r\n",
      "tables                             3.6.1\r\n",
      "tblib                              1.7.0\r\n",
      "terminado                          0.9.4\r\n",
      "testpath                           0.4.4\r\n",
      "textdistance                       4.2.1\r\n",
      "threadpoolctl                      2.1.0\r\n",
      "three-merge                        0.1.1\r\n",
      "tifffile                           2020.10.1\r\n",
      "toml                               0.10.2\r\n",
      "toolz                              0.11.1\r\n",
      "tornado                            6.1\r\n",
      "tqdm                               4.59.0\r\n",
      "traitlets                          5.0.5\r\n",
      "typed-ast                          1.4.2\r\n",
      "typing-extensions                  3.7.4.3\r\n",
      "ujson                              4.0.2\r\n",
      "unicodecsv                         0.14.1\r\n",
      "urllib3                            1.26.4\r\n",
      "watchdog                           1.0.2\r\n",
      "wcwidth                            0.2.5\r\n",
      "webencodings                       0.5.1\r\n",
      "Werkzeug                           1.0.1\r\n",
      "wheel                              0.36.2\r\n",
      "widgetsnbextension                 3.5.1\r\n",
      "wrapt                              1.12.1\r\n",
      "wurlitzer                          2.1.0\r\n",
      "xlrd                               2.0.1\r\n",
      "XlsxWriter                         1.3.8\r\n",
      "xlwings                            0.23.0\r\n",
      "xlwt                               1.3.0\r\n",
      "xmltodict                          0.12.0\r\n",
      "yapf                               0.31.0\r\n",
      "zict                               2.0.0\r\n",
      "zipp                               3.4.1\r\n",
      "zope.event                         4.5.0\r\n",
      "zope.interface                     5.3.0\r\n"
     ]
    },
    {
     "name": "stdout",
     "output_type": "stream",
     "text": [
      "Note: you may need to restart the kernel to use updated packages.\n"
     ]
    }
   ],
   "source": [
    "pip list"
   ]
  },
  {
   "cell_type": "code",
   "execution_count": 17,
   "metadata": {
    "collapsed": true
   },
   "outputs": [
    {
     "data": {
      "text/plain": [
       "['1',\n",
       " '2',\n",
       " '1',\n",
       " '5',\n",
       " '6',\n",
       " '3',\n",
       " '2',\n",
       " '4',\n",
       " '9',\n",
       " '8',\n",
       " '4',\n",
       " '6',\n",
       " '1',\n",
       " '5',\n",
       " '6',\n",
       " '8',\n",
       " '5']"
      ]
     },
     "execution_count": 17,
     "metadata": {},
     "output_type": "execute_result"
    }
   ],
   "source": [
    "n = 58651648942365121\n",
    "list(str(n))[::-1]"
   ]
  },
  {
   "cell_type": "code",
   "execution_count": 20,
   "metadata": {},
   "outputs": [
    {
     "data": {
      "text/plain": [
       "1"
      ]
     },
     "execution_count": 20,
     "metadata": {},
     "output_type": "execute_result"
    }
   ],
   "source": [
    "def my_factorial(n):\n",
    "    res = 1\n",
    "    for i in range(n):\n",
    "        res*=i+1\n",
    "    return res\n",
    "my_factorial(1)"
   ]
  },
  {
   "cell_type": "code",
   "execution_count": 22,
   "metadata": {},
   "outputs": [
    {
     "data": {
      "text/plain": [
       "24"
      ]
     },
     "execution_count": 22,
     "metadata": {},
     "output_type": "execute_result"
    }
   ],
   "source": [
    "def my_factorial(n):\n",
    "    res = 1\n",
    "    while n != 0:\n",
    "        res*=n\n",
    "        n-=1\n",
    "    return res\n",
    "my_factorial(4)"
   ]
  },
  {
   "cell_type": "code",
   "execution_count": null,
   "metadata": {},
   "outputs": [],
   "source": [
    "ops = {'+':+, '-':-, '*':*, '/':/}"
   ]
  },
  {
   "cell_type": "code",
   "execution_count": 25,
   "metadata": {},
   "outputs": [
    {
     "ename": "SyntaxError",
     "evalue": "invalid syntax (<ipython-input-25-09a81e47ebec>, line 2)",
     "output_type": "error",
     "traceback": [
      "\u001b[0;36m  File \u001b[0;32m\"<ipython-input-25-09a81e47ebec>\"\u001b[0;36m, line \u001b[0;32m2\u001b[0m\n\u001b[0;31m    return lambda x : x  char x\u001b[0m\n\u001b[0m                         ^\u001b[0m\n\u001b[0;31mSyntaxError\u001b[0m\u001b[0;31m:\u001b[0m invalid syntax\n"
     ]
    }
   ],
   "source": [
    "def cal(a, b):\n",
    "    return lambda x : a"
   ]
  },
  {
   "cell_type": "code",
   "execution_count": null,
   "metadata": {},
   "outputs": [],
   "source": [
    "ops[\"+\"](3, 5)"
   ]
  },
  {
   "cell_type": "code",
   "execution_count": null,
   "metadata": {},
   "outputs": [],
   "source": []
  },
  {
   "cell_type": "code",
   "execution_count": null,
   "metadata": {},
   "outputs": [],
   "source": []
  },
  {
   "cell_type": "code",
   "execution_count": 2,
   "metadata": {},
   "outputs": [],
   "source": [
    "import random"
   ]
  },
  {
   "cell_type": "code",
   "execution_count": 7,
   "metadata": {},
   "outputs": [
    {
     "data": {
      "text/plain": [
       "['T', 'A', 'X']"
      ]
     },
     "execution_count": 7,
     "metadata": {},
     "output_type": "execute_result"
    }
   ],
   "source": [
    "uppers = [chr(random.randint(65, 90)) for  i in range(3)]\n",
    "uppers"
   ]
  },
  {
   "cell_type": "code",
   "execution_count": 8,
   "metadata": {},
   "outputs": [
    {
     "data": {
      "text/plain": [
       "'TAX'"
      ]
     },
     "execution_count": 8,
     "metadata": {},
     "output_type": "execute_result"
    }
   ],
   "source": [
    "''.join(uppers)"
   ]
  },
  {
   "cell_type": "code",
   "execution_count": null,
   "metadata": {},
   "outputs": [],
   "source": [
    "numbers = [chr(random.randint(48, 57) for  i in range(3)]\n",
    "numbers"
   ]
  },
  {
   "cell_type": "code",
   "execution_count": 9,
   "metadata": {},
   "outputs": [],
   "source": [
    "from timeit import timeit"
   ]
  },
  {
   "cell_type": "code",
   "execution_count": 10,
   "metadata": {},
   "outputs": [],
   "source": [
    "def for_loop():\n",
    "    res = []\n",
    "    for i in range(1000000):\n",
    "        res.append(i)\n",
    "    return res"
   ]
  },
  {
   "cell_type": "code",
   "execution_count": 11,
   "metadata": {},
   "outputs": [],
   "source": [
    "def ls_comp():\n",
    "    return [i for i in range(1000000)]"
   ]
  },
  {
   "cell_type": "code",
   "execution_count": 14,
   "metadata": {},
   "outputs": [],
   "source": [
    "from datetime import datetime"
   ]
  },
  {
   "cell_type": "code",
   "execution_count": 20,
   "metadata": {},
   "outputs": [
    {
     "name": "stdout",
     "output_type": "stream",
     "text": [
      "0:00:00.200075\n"
     ]
    }
   ],
   "source": [
    "start = datetime.now()\n",
    "for_loop()\n",
    "end = datetime.now()\n",
    "print(end - start)"
   ]
  },
  {
   "cell_type": "code",
   "execution_count": 21,
   "metadata": {},
   "outputs": [
    {
     "name": "stdout",
     "output_type": "stream",
     "text": [
      "0:00:00.111606\n"
     ]
    }
   ],
   "source": [
    "start = datetime.now()\n",
    "ls_comp()\n",
    "end = datetime.now()\n",
    "print(end - start)"
   ]
  },
  {
   "cell_type": "code",
   "execution_count": 28,
   "metadata": {},
   "outputs": [],
   "source": [
    "time1 = timeit(for_loop, number = 1000)\n",
    "time2 = timeit(ls_comp, number = 1000)"
   ]
  },
  {
   "cell_type": "code",
   "execution_count": 29,
   "metadata": {},
   "outputs": [
    {
     "name": "stdout",
     "output_type": "stream",
     "text": [
      "list comprehension is 1.34 times faster than for_loop\n"
     ]
    }
   ],
   "source": [
    "print(f'list comprehension is {round(time1/time2, 2)} times faster than for_loop')"
   ]
  },
  {
   "cell_type": "code",
   "execution_count": 30,
   "metadata": {},
   "outputs": [
    {
     "data": {
      "text/plain": [
       "138.0172196120002"
      ]
     },
     "execution_count": 30,
     "metadata": {},
     "output_type": "execute_result"
    }
   ],
   "source": [
    "time1"
   ]
  },
  {
   "cell_type": "code",
   "execution_count": 31,
   "metadata": {},
   "outputs": [
    {
     "data": {
      "text/plain": [
       "103.36329260799994"
      ]
     },
     "execution_count": 31,
     "metadata": {},
     "output_type": "execute_result"
    }
   ],
   "source": [
    "time2"
   ]
  },
  {
   "cell_type": "code",
   "execution_count": null,
   "metadata": {},
   "outputs": [],
   "source": []
  },
  {
   "cell_type": "code",
   "execution_count": 32,
   "metadata": {},
   "outputs": [],
   "source": [
    "import smtplib"
   ]
  },
  {
   "cell_type": "code",
   "execution_count": 33,
   "metadata": {},
   "outputs": [],
   "source": [
    "server = smtplib.SMTP('smtp.gmail.com', 587)"
   ]
  },
  {
   "cell_type": "code",
   "execution_count": 34,
   "metadata": {},
   "outputs": [
    {
     "data": {
      "text/plain": [
       "(220, b'2.0.0 Ready to start TLS')"
      ]
     },
     "execution_count": 34,
     "metadata": {},
     "output_type": "execute_result"
    }
   ],
   "source": [
    "server.starttls()"
   ]
  },
  {
   "cell_type": "code",
   "execution_count": 37,
   "metadata": {},
   "outputs": [
    {
     "data": {
      "text/plain": [
       "(235, b'2.7.0 Accepted')"
      ]
     },
     "execution_count": 37,
     "metadata": {},
     "output_type": "execute_result"
    }
   ],
   "source": [
    "server.login('slmnkc10','TUzakci7910')"
   ]
  },
  {
   "cell_type": "code",
   "execution_count": 38,
   "metadata": {},
   "outputs": [],
   "source": [
    "message = 'What are you doing?'"
   ]
  },
  {
   "cell_type": "code",
   "execution_count": 41,
   "metadata": {},
   "outputs": [
    {
     "data": {
      "text/plain": [
       "{}"
      ]
     },
     "execution_count": 41,
     "metadata": {},
     "output_type": "execute_result"
    }
   ],
   "source": [
    "server.sendmail('slmnkc10@gmail.com', 'ustaoglusamet05@gmail.com', message)"
   ]
  },
  {
   "cell_type": "code",
   "execution_count": null,
   "metadata": {},
   "outputs": [],
   "source": []
  }
 ],
 "metadata": {
  "kernelspec": {
   "display_name": "Python 3",
   "language": "python",
   "name": "python3"
  },
  "language_info": {
   "codemirror_mode": {
    "name": "ipython",
    "version": 3
   },
   "file_extension": ".py",
   "mimetype": "text/x-python",
   "name": "python",
   "nbconvert_exporter": "python",
   "pygments_lexer": "ipython3",
   "version": "3.8.8"
  }
 },
 "nbformat": 4,
 "nbformat_minor": 4
}
