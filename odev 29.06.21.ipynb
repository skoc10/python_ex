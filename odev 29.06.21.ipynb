{
 "cells": [
  {
   "cell_type": "raw",
   "metadata": {},
   "source": [
    "# 1)Write a program that works out whether if a given year is a leap year. A normal year has 365 days, leap years have 366, with an extra day in February.    This is how you work out whether if a particular year is a leap year.\n",
    "on every year that is evenly divisible by 4 **except** every year that is evenly divisible by 100 **unless** the year is also evenly divisible by 400"
   ]
  },
  {
   "cell_type": "code",
   "execution_count": 1,
   "metadata": {},
   "outputs": [
    {
     "name": "stdout",
     "output_type": "stream",
     "text": [
      "2000\n",
      "Leap year.\n"
     ]
    }
   ],
   "source": [
    "year = int(input())\n",
    "if year%4==0 and year%100!=0:\n",
    "    print('Leap year.')\n",
    "elif year%400==0:\n",
    "    print('Leap year.')\n",
    "else:\n",
    "    print('Not leap year.')"
   ]
  },
  {
   "cell_type": "code",
   "execution_count": null,
   "metadata": {},
   "outputs": [],
   "source": []
  },
  {
   "cell_type": "raw",
   "metadata": {},
   "source": [
    "2)Write a program that interprets the Body Mass Index (BMI) based on a user's weight and height.\n",
    "It should tell them the interpretation of their BMI based on the BMI value.\n",
    "Under 18.5 they are underweight\n",
    "Over 18.5 but below 25 they have a normal weight\n",
    "Over 25 but below 30 they are slightly overweight\n",
    "Over 30 but below 35 they are obese\n",
    "Above 35 they are clinically obese\n",
    "The BMI is calculated by dividing a person's weight (in kg) by the square of their height (in m):\n",
    "Warning you should round the result to the nearest whole number. The interpretation message needs to include the words in bold from the interpretations above. e.g. underweight, normal weight, overweight, obese, clinically obese."
   ]
  },
  {
   "cell_type": "code",
   "execution_count": 10,
   "metadata": {},
   "outputs": [],
   "source": [
    "class style:\n",
    "   BOLD = '\\033[1m'\n",
    "   END = '\\033[0m'"
   ]
  },
  {
   "cell_type": "code",
   "execution_count": 18,
   "metadata": {
    "scrolled": true
   },
   "outputs": [
    {
     "name": "stdout",
     "output_type": "stream",
     "text": [
      "weight: 60\n",
      "height: 1.60\n",
      "Your BMI is 23, you are \u001b[1mnormal weight\u001b[0m.\n"
     ]
    }
   ],
   "source": [
    "weight = float(input('weight: '))\n",
    "height = float(input('height: '))\n",
    "bmi = weight / height**2\n",
    "\n",
    "if bmi<=18.5:\n",
    "    interpretation = 'underweight'\n",
    "elif bmi>18.5 and bmi<=25:\n",
    "    interpretation = 'normal weight'\n",
    "elif bmi>25 and bmi<=30:\n",
    "    interpretation = 'slightly overweight'\n",
    "elif bmi>30 and bmi<=35:\n",
    "    interpretation = 'obese'\n",
    "else:\n",
    "    interpretation = 'clinically obese'\n",
    "interp = '\\033[1m'+ interpretation + '\\033[0m'\n",
    "    \n",
    "print(f'Your BMI is {round(bmi)}, you are {interp}.')"
   ]
  },
  {
   "cell_type": "code",
   "execution_count": null,
   "metadata": {},
   "outputs": [],
   "source": []
  },
  {
   "cell_type": "raw",
   "metadata": {},
   "source": [
    "3)Congratulations, you've got a job at Python Pizza. Your first job is to build an automatic pizza order program.\n",
    "Based on a user's order, work out their final bill.\n",
    "Small Pizza: $15\n",
    "Medium Pizza: $20\n",
    "Large Pizza: $25\n",
    "Pepperoni for Small Pizza: +$2\n",
    "Pepperoni for Medium or Large Pizza: +$3\n",
    "Extra cheese for any size pizza: + $1\n",
    "    \n",
    "size = \"L\"\n",
    "add_pepperoni = \"Y\"\n",
    "extra_cheese = \"N\"\n",
    "\n",
    "Your final bill is: $28."
   ]
  },
  {
   "cell_type": "code",
   "execution_count": 7,
   "metadata": {
    "scrolled": true
   },
   "outputs": [
    {
     "name": "stdout",
     "output_type": "stream",
     "text": [
      "size(S/M/L) = s\n",
      "add_pepperoni(Y/N) = n\n",
      "extra_cheese(Y/N) = n\n",
      "Your final bill is: $15.\n"
     ]
    }
   ],
   "source": [
    "size = input('size(S/M/L) = ')\n",
    "add_pepperoni = input('add_pepperoni(Y/N) = ')\n",
    "extra_cheese = input('extra_cheese(Y/N) = ')\n",
    "\n",
    "s_pzz = 15\n",
    "m_pzz = 20\n",
    "l_pzz = 25\n",
    "s_pp = 2\n",
    "ml_pp = 3\n",
    "ex_chs = 1 \n",
    "\n",
    "if size in ['L','M','S','l','m','s'] and add_pepperoni in ['Y','N','y','n'] and extra_cheese in ['Y','N','y','n']:\n",
    "    if size == 'L' or size == 'l':\n",
    "        bill = l_pzz\n",
    "        add_pp = ml_pp\n",
    "    elif size == 'M' or size == 'm':\n",
    "        bill = m_pzz\n",
    "        add_pp = ml_pp\n",
    "    elif size == 'S' or size == 's':\n",
    "        bill = s_pzz\n",
    "        add_pp = s_pp\n",
    "\n",
    "    if add_pepperoni == 'Y' or add_pepperoni == 'y':\n",
    "        bill += add_pp\n",
    "    if extra_cheese == 'Y' or extra_cheese == 'y':\n",
    "        bill += ex_chs\n",
    "    \n",
    "    print(f'Your final bill is: ${bill}.')\n",
    "    \n",
    "else:\n",
    "    print('Wrong choice!')"
   ]
  },
  {
   "cell_type": "code",
   "execution_count": null,
   "metadata": {},
   "outputs": [],
   "source": [
    "\n"
   ]
  },
  {
   "cell_type": "code",
   "execution_count": null,
   "metadata": {},
   "outputs": [],
   "source": []
  },
  {
   "cell_type": "code",
   "execution_count": null,
   "metadata": {},
   "outputs": [],
   "source": []
  },
  {
   "cell_type": "code",
   "execution_count": null,
   "metadata": {},
   "outputs": [],
   "source": []
  },
  {
   "cell_type": "code",
   "execution_count": null,
   "metadata": {},
   "outputs": [],
   "source": []
  },
  {
   "cell_type": "code",
   "execution_count": null,
   "metadata": {},
   "outputs": [],
   "source": []
  },
  {
   "cell_type": "code",
   "execution_count": null,
   "metadata": {},
   "outputs": [],
   "source": []
  },
  {
   "cell_type": "code",
   "execution_count": null,
   "metadata": {},
   "outputs": [],
   "source": [
    "size = input('size(S/M/L) = ')\n",
    "add_pepperoni = input('add_pepperoni(Y/N) = ')\n",
    "extra_cheese = input('extra_cheese(Y/N) = ')\n",
    "\n",
    "s_pzz = 15\n",
    "m_pzz = 20\n",
    "l_pzz = 25\n",
    "s_pp = 2\n",
    "ml_pp = 3\n",
    "ex_chs = 1 \n",
    "\n",
    "\n"
   ]
  },
  {
   "cell_type": "code",
   "execution_count": 6,
   "metadata": {},
   "outputs": [
    {
     "name": "stdout",
     "output_type": "stream",
     "text": [
      "cfsda\n"
     ]
    },
    {
     "data": {
      "text/plain": [
       "False"
      ]
     },
     "execution_count": 6,
     "metadata": {},
     "output_type": "execute_result"
    }
   ],
   "source": [
    "left_hand = {'q','a','z','w','s','x','e','d','c','r','f','v','t','g','b'}\n",
    "right_hand = {'y','h','n','u','j','m','i','k','o','l','p'}\n",
    "\n",
    "word = set(input())\n",
    "result = not(word.issubset(left_hand) or word.issubset(right_hand))\n",
    "print(result)"
   ]
  },
  {
   "cell_type": "code",
   "execution_count": 2,
   "metadata": {},
   "outputs": [
    {
     "name": "stdout",
     "output_type": "stream",
     "text": [
      "PASSWORD\n"
     ]
    },
    {
     "data": {
      "text/plain": [
       "False"
      ]
     },
     "execution_count": 2,
     "metadata": {},
     "output_type": "execute_result"
    }
   ],
   "source": [
    "def is_isogram(s):\n",
    "    s = s.strip().upper()\n",
    "    set_s = set(s)\n",
    "    result = len(set_s) == len(s)\n",
    "    print(s)\n",
    "    return result\n",
    "\n",
    "is_isogram('Password')"
   ]
  },
  {
   "cell_type": "code",
   "execution_count": null,
   "metadata": {},
   "outputs": [],
   "source": []
  },
  {
   "cell_type": "code",
   "execution_count": 4,
   "metadata": {},
   "outputs": [
    {
     "data": {
      "text/plain": [
       "6"
      ]
     },
     "execution_count": 4,
     "metadata": {},
     "output_type": "execute_result"
    }
   ],
   "source": [
    "s = 'selman'\n",
    "s = s.upper()\n",
    "set_s = set(s)\n",
    "result = len(set_s) == len(s)\n"
   ]
  },
  {
   "cell_type": "code",
   "execution_count": 2,
   "metadata": {},
   "outputs": [
    {
     "data": {
      "text/plain": [
       "'selman'"
      ]
     },
     "execution_count": 2,
     "metadata": {},
     "output_type": "execute_result"
    }
   ],
   "source": [
    "s"
   ]
  },
  {
   "cell_type": "code",
   "execution_count": 1,
   "metadata": {},
   "outputs": [
    {
     "name": "stdout",
     "output_type": "stream",
     "text": [
      "rr\n",
      "pp\n",
      "qq\n"
     ]
    }
   ],
   "source": [
    "for x in set('pqr'):\n",
    "    print(x*2)"
   ]
  },
  {
   "cell_type": "code",
   "execution_count": 2,
   "metadata": {},
   "outputs": [
    {
     "data": {
      "text/plain": [
       "40"
      ]
     },
     "execution_count": 2,
     "metadata": {},
     "output_type": "execute_result"
    }
   ],
   "source": [
    "d = {\"john\":40, \"peter\":45}\n",
    "d[\"john\"]"
   ]
  },
  {
   "cell_type": "code",
   "execution_count": 3,
   "metadata": {},
   "outputs": [
    {
     "name": "stdout",
     "output_type": "stream",
     "text": [
      "[(2019, 'Freshman'), (2020, 'Sophomore'), (2021, 'Junior'), (2022, 'Senior')]\n"
     ]
    }
   ],
   "source": [
    "college_years = ['Freshman', 'Sophomore', 'Junior', 'Senior']\n",
    "print(list(enumerate(college_years, 2019)))"
   ]
  },
  {
   "cell_type": "code",
   "execution_count": null,
   "metadata": {},
   "outputs": [],
   "source": []
  }
 ],
 "metadata": {
  "kernelspec": {
   "display_name": "Python 3",
   "language": "python",
   "name": "python3"
  },
  "language_info": {
   "codemirror_mode": {
    "name": "ipython",
    "version": 3
   },
   "file_extension": ".py",
   "mimetype": "text/x-python",
   "name": "python",
   "nbconvert_exporter": "python",
   "pygments_lexer": "ipython3",
   "version": "3.8.8"
  }
 },
 "nbformat": 4,
 "nbformat_minor": 4
}
