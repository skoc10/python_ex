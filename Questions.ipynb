{
 "cells": [
  {
   "cell_type": "markdown",
   "id": "e092c5b1",
   "metadata": {},
   "source": [
    "\n",
    "### 1. Write a function that changes every letter to the next letter:\n",
    "\n",
    "\"a\" becomes \"b\"\n",
    "\n",
    "\"b\" becomes \"c\"\n",
    "\n",
    "\"d\" becomes \"e\"\n",
    "\n",
    "and so on ...\n",
    "\n",
    "Examples\n",
    "move(\"hello\") ➞ \"ifmmp\"\n",
    "\n",
    "move(\"bye\") ➞ \"czf\"\n",
    "\n",
    "move(\"welcome\") ➞ \"xfmdpnf\"\n",
    "\n",
    "Notes\n",
    "There will be no z's in the tests.\n"
   ]
  },
  {
   "cell_type": "code",
   "execution_count": 56,
   "id": "83741024",
   "metadata": {},
   "outputs": [],
   "source": [
    "def move(s1):\n",
    "    s2 = ''\n",
    "    for i in range(len(s1)):\n",
    "        s2 += chr(ord(s1[i])+1)\n",
    "    return s2            "
   ]
  },
  {
   "cell_type": "code",
   "execution_count": 57,
   "id": "bd40d0fd",
   "metadata": {},
   "outputs": [
    {
     "data": {
      "text/plain": [
       "'xfmdpnf'"
      ]
     },
     "execution_count": 57,
     "metadata": {},
     "output_type": "execute_result"
    }
   ],
   "source": [
    "move(\"welcome\") "
   ]
  },
  {
   "cell_type": "code",
   "execution_count": null,
   "id": "48542552",
   "metadata": {},
   "outputs": [],
   "source": []
  },
  {
   "cell_type": "markdown",
   "id": "69139bb5",
   "metadata": {},
   "source": [
    "### 2. Create a function that takes a number num and returns its length.\n",
    "\n",
    "Examples\n",
    "number_length(10) ➞ 2\n",
    "\n",
    "number_length(5000) ➞ 4\n",
    "\n",
    "number_length(0) ➞ 1\n",
    "\n",
    "Notes\n",
    "The use of the len() function is prohibited."
   ]
  },
  {
   "cell_type": "code",
   "execution_count": 64,
   "id": "5d9eaae3",
   "metadata": {},
   "outputs": [],
   "source": [
    "def number_length(num):\n",
    "    s = str(num)\n",
    "    count = 0\n",
    "    for i in (s):\n",
    "        count+=1\n",
    "    return count"
   ]
  },
  {
   "cell_type": "code",
   "execution_count": 66,
   "id": "e006432f",
   "metadata": {},
   "outputs": [
    {
     "data": {
      "text/plain": [
       "6"
      ]
     },
     "execution_count": 66,
     "metadata": {},
     "output_type": "execute_result"
    }
   ],
   "source": [
    "number_length(154444)"
   ]
  },
  {
   "cell_type": "code",
   "execution_count": null,
   "id": "59c48cfa",
   "metadata": {},
   "outputs": [],
   "source": []
  },
  {
   "cell_type": "markdown",
   "id": "86850fb2",
   "metadata": {},
   "source": [
    "### 3.  A number is said to be Harshad if it's exactly divisible by the sum of its digits. Create a function that determines whether a number is a Harshad or not.\n",
    "\n",
    "Examples\n",
    "is_harshad(75) ➞ False\n",
    " 7 + 5 = 12\n",
    " 75 is not exactly divisible by 12\n",
    " \n",
    "is_harshad(171) ➞ True\n",
    " 1 + 7 + 1 = 9\n",
    " 9 exactly divides 171\n",
    " \n",
    "is_harshad(481) ➞ True\n",
    "\n",
    "is_harshad(89) ➞ False\n",
    "\n",
    "is_harshad(516) ➞ True\n",
    "\n",
    "is_harshad(200) ➞ True"
   ]
  },
  {
   "cell_type": "code",
   "execution_count": 68,
   "id": "1b28ce4a",
   "metadata": {},
   "outputs": [],
   "source": [
    "def is_harshad(number):\n",
    "    s = str(number)\n",
    "    n = 0\n",
    "    for i in s:\n",
    "        n+=int(i)\n",
    "    return number % n == 0"
   ]
  },
  {
   "cell_type": "code",
   "execution_count": 72,
   "id": "9d63b1b8",
   "metadata": {},
   "outputs": [
    {
     "data": {
      "text/plain": [
       "True"
      ]
     },
     "execution_count": 72,
     "metadata": {},
     "output_type": "execute_result"
    }
   ],
   "source": [
    "is_harshad(481) "
   ]
  },
  {
   "cell_type": "code",
   "execution_count": null,
   "id": "984a16af",
   "metadata": {},
   "outputs": [],
   "source": []
  },
  {
   "cell_type": "markdown",
   "id": "4fbb771e",
   "metadata": {},
   "source": [
    "### 4. A number is said to be Disarium if the sum of its digits raised to their respective positions is the number itself.\n",
    "\n",
    "Create a function that determines whether a number is a Disarium or not.\n",
    "\n",
    "Examples\n",
    "is_disarium(75) ➞ False\n",
    " 7^1 + 5^2 = 7 + 25 = 32\n",
    "\n",
    "is_disarium(135) ➞ True\n",
    " 1^1 + 3^2 + 5^3 = 1 + 9 + 125 = 135\n",
    "\n",
    "is_disarium(544) ➞ False\n",
    "\n",
    "is_disarium(518) ➞ True\n",
    "\n",
    "is_disarium(466) ➞ False\n",
    "\n",
    "is_disarium(8) ➞ True\n"
   ]
  },
  {
   "cell_type": "code",
   "execution_count": 75,
   "id": "9cbec284",
   "metadata": {},
   "outputs": [],
   "source": [
    "def is_disarium(number):\n",
    "    s = str(number)\n",
    "    num_sum = 0\n",
    "    u = 1\n",
    "    for i in s:\n",
    "        num_sum+=int(i)**u\n",
    "        u+=1\n",
    "        \n",
    "    return num_sum == number\n",
    "        "
   ]
  },
  {
   "cell_type": "code",
   "execution_count": 79,
   "id": "049962eb",
   "metadata": {},
   "outputs": [
    {
     "data": {
      "text/plain": [
       "False"
      ]
     },
     "execution_count": 79,
     "metadata": {},
     "output_type": "execute_result"
    }
   ],
   "source": [
    "is_disarium(466)"
   ]
  },
  {
   "cell_type": "code",
   "execution_count": null,
   "id": "60597cd3",
   "metadata": {},
   "outputs": [],
   "source": []
  },
  {
   "cell_type": "raw",
   "id": "8b75c572",
   "metadata": {},
   "source": [
    "5. Create a function that takes the width, height and character and returns a picture frame as a 2D list.\n",
    "\n",
    "Examples\n",
    "get_frame(4, 5, \"#\") ➞ [\n",
    "  [\"####\"],\n",
    "  [\"#  #\"],\n",
    "  [\"#  #\"],\n",
    "  [\"#  #\"],\n",
    "  [\"####\"]\n",
    "]\n",
    " Frame is 4 characters wide and 5 characters tall.\n",
    "\n",
    "\n",
    "get_frame(10, 3, \"*\") ➞ [\n",
    "  [\"**********\"],\n",
    "  [\"*        *\"],\n",
    "  [\"**********\"]\n",
    "]\n",
    " Frame is 10 characters and wide and 3 characters tall.\n",
    "\n",
    "\n",
    "get_frame(2, 5, \"0\") ➞ \"invalid\"\n",
    " Frame's width is not more than 2.\n",
    " \n",
    " Notes\n",
    "Remember the gap.\n",
    "Return \"invalid\" if width or height is 2 or less (can't put anything inside)."
   ]
  },
  {
   "cell_type": "code",
   "execution_count": 25,
   "id": "f5baca87",
   "metadata": {},
   "outputs": [],
   "source": [
    "def get_frame(width, height, char):\n",
    "    \n",
    "    if width <= 2:\n",
    "        return \"invalid\"\n",
    "    \n",
    "    for i in range(height):\n",
    "        if i == 0:\n",
    "            print(width*char)\n",
    "        elif i == height-1:\n",
    "            print(width*char)\n",
    "        else:\n",
    "            print(char+(width-2)*' '+char)"
   ]
  },
  {
   "cell_type": "code",
   "execution_count": 26,
   "id": "61f4d03f",
   "metadata": {},
   "outputs": [
    {
     "name": "stdout",
     "output_type": "stream",
     "text": [
      "&&&&&&&&&&&&&&&&&&&&\n",
      "&                  &\n",
      "&                  &\n",
      "&                  &\n",
      "&&&&&&&&&&&&&&&&&&&&\n"
     ]
    }
   ],
   "source": [
    "get_frame(20, 5, \"&\")"
   ]
  },
  {
   "cell_type": "code",
   "execution_count": null,
   "id": "b5318372",
   "metadata": {},
   "outputs": [],
   "source": []
  },
  {
   "cell_type": "markdown",
   "id": "9253bcc9",
   "metadata": {},
   "source": [
    "### 6. Given an integer, create a function that returns the next prime. If the number is prime, return the number itself.\n",
    "\n",
    "Examples\n",
    "next_prime(12) ➞ 13\n",
    "\n",
    "next_prime(24) ➞ 29\n",
    "\n",
    "next_prime(11) ➞ 11\n",
    "\n",
    "11 is a prime, so we return the number itself."
   ]
  },
  {
   "cell_type": "code",
   "execution_count": 11,
   "id": "1a7f6214",
   "metadata": {},
   "outputs": [],
   "source": [
    "def next_prime(n):\n",
    "    \n",
    "    for n in range(n, n+10):\n",
    "        for i in range(2, n):\n",
    "            if (n % i) == 0:\n",
    "                break\n",
    "        else:\n",
    "            print(n)\n",
    "            break"
   ]
  },
  {
   "cell_type": "code",
   "execution_count": 13,
   "id": "dcd44a2c",
   "metadata": {},
   "outputs": [
    {
     "name": "stdout",
     "output_type": "stream",
     "text": [
      "907\n"
     ]
    }
   ],
   "source": [
    "next_prime(900)"
   ]
  },
  {
   "cell_type": "code",
   "execution_count": null,
   "id": "22b389a3",
   "metadata": {},
   "outputs": [],
   "source": []
  },
  {
   "cell_type": "code",
   "execution_count": 2,
   "id": "43711faa",
   "metadata": {},
   "outputs": [
    {
     "name": "stdout",
     "output_type": "stream",
     "text": [
      "Prime numbers between 900 and 1000 are:\n",
      "907\n",
      "911\n",
      "919\n",
      "929\n",
      "937\n",
      "941\n",
      "947\n",
      "953\n",
      "967\n",
      "971\n",
      "977\n",
      "983\n",
      "991\n",
      "997\n"
     ]
    }
   ],
   "source": [
    "# Python program to display all the prime numbers within an interval\n",
    "\n",
    "lower = 900\n",
    "upper = 1000\n",
    "\n",
    "print(\"Prime numbers between\", lower, \"and\", upper, \"are:\")\n",
    "\n",
    "for num in range(lower, upper + 1):\n",
    "   # all prime numbers are greater than 1\n",
    "   if num > 1:\n",
    "        for i in range(2, num):\n",
    "            if (num % i) == 0:\n",
    "                break\n",
    "           \n",
    "        else:\n",
    "            print(num)\n",
    "                  \n",
    "       \n",
    "       "
   ]
  },
  {
   "cell_type": "markdown",
   "id": "b5d519f5",
   "metadata": {},
   "source": [
    "### 7. Create a function that returns the majority vote in a list. A majority vote is an element that occurs > N/2 times in a list (where N is the length of the list).\n",
    "\n",
    "Examples\n",
    "majority_vote([\"A\", \"A\", \"B\"]) ➞ \"A\"\n",
    "\n",
    "majority_vote([\"A\", \"A\", \"A\", \"B\", \"C\", \"A\"]) ➞ \"A\"\n",
    "\n",
    "majority_vote([\"A\", \"B\", \"B\", \"A\", \"C\", \"C\"]) ➞ None\n",
    "\n",
    "Notes\n",
    "\n",
    "The frequency of the majority element must be strictly greater than 1/2.\n",
    "\n",
    "If there is no majority element, return None.\n",
    "\n",
    "If the list is empty, return None."
   ]
  },
  {
   "cell_type": "code",
   "execution_count": 34,
   "id": "47b68e22",
   "metadata": {},
   "outputs": [],
   "source": [
    "def majority_vote(votes):\n",
    "    if votes == []:\n",
    "        return None\n",
    "    majority = max(set(votes), key=votes.count)\n",
    "    if votes.count(majority) > len(votes)/2:\n",
    "        return majority\n",
    "    else:\n",
    "        return None"
   ]
  },
  {
   "cell_type": "code",
   "execution_count": 35,
   "id": "d3ba2af9",
   "metadata": {},
   "outputs": [
    {
     "data": {
      "text/plain": [
       "'C'"
      ]
     },
     "execution_count": 35,
     "metadata": {},
     "output_type": "execute_result"
    }
   ],
   "source": [
    "majority_vote([\"A\", \"B\", \"B\", \"A\", \"C\", \"C\", \"C\", \"C\", \"C\"])"
   ]
  },
  {
   "cell_type": "code",
   "execution_count": null,
   "id": "e7e69c18",
   "metadata": {},
   "outputs": [],
   "source": []
  },
  {
   "cell_type": "code",
   "execution_count": null,
   "id": "1710e28c",
   "metadata": {},
   "outputs": [],
   "source": []
  },
  {
   "cell_type": "code",
   "execution_count": null,
   "id": "fa213481",
   "metadata": {},
   "outputs": [],
   "source": []
  },
  {
   "cell_type": "code",
   "execution_count": null,
   "id": "7721aff4",
   "metadata": {},
   "outputs": [],
   "source": []
  },
  {
   "cell_type": "code",
   "execution_count": null,
   "id": "90470f91",
   "metadata": {},
   "outputs": [],
   "source": []
  },
  {
   "cell_type": "code",
   "execution_count": null,
   "id": "529e8dc0",
   "metadata": {},
   "outputs": [],
   "source": []
  },
  {
   "cell_type": "code",
   "execution_count": null,
   "id": "db306d5d",
   "metadata": {},
   "outputs": [],
   "source": []
  },
  {
   "cell_type": "code",
   "execution_count": null,
   "id": "bd4174f4",
   "metadata": {},
   "outputs": [],
   "source": []
  }
 ],
 "metadata": {
  "kernelspec": {
   "display_name": "Python 3",
   "language": "python",
   "name": "python3"
  },
  "language_info": {
   "codemirror_mode": {
    "name": "ipython",
    "version": 3
   },
   "file_extension": ".py",
   "mimetype": "text/x-python",
   "name": "python",
   "nbconvert_exporter": "python",
   "pygments_lexer": "ipython3",
   "version": "3.8.8"
  }
 },
 "nbformat": 4,
 "nbformat_minor": 5
}
